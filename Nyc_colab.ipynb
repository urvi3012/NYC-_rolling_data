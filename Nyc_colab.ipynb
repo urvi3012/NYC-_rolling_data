{
  "nbformat": 4,
  "nbformat_minor": 0,
  "metadata": {
    "kernelspec": {
      "display_name": "Python 3",
      "language": "python",
      "name": "python3"
    },
    "language_info": {
      "codemirror_mode": {
        "name": "ipython",
        "version": 3
      },
      "file_extension": ".py",
      "mimetype": "text/x-python",
      "name": "python",
      "nbconvert_exporter": "python",
      "pygments_lexer": "ipython3",
      "version": "3.7.3"
    },
    "colab": {
      "name": "Nyc.ipynb",
      "provenance": []
    },
    "accelerator": "GPU"
  },
  "cells": [
    {
      "cell_type": "code",
      "metadata": {
        "id": "b5opyiRFMejb",
        "colab_type": "code",
        "colab": {}
      },
      "source": [
        "import pandas as pd\n",
        "import numpy as np\n",
        "import matplotlib.pyplot as plt\n",
        "import seaborn as sns\n",
        "import statistics as s"
      ],
      "execution_count": 4,
      "outputs": []
    },
    {
      "cell_type": "code",
      "metadata": {
        "id": "2TICkYDNMeji",
        "colab_type": "code",
        "colab": {}
      },
      "source": [
        "data = pd.read_csv('nyc.csv')"
      ],
      "execution_count": 5,
      "outputs": []
    },
    {
      "cell_type": "code",
      "metadata": {
        "id": "ddlV9lhkMejm",
        "colab_type": "code",
        "colab": {
          "base_uri": "https://localhost:8080/",
          "height": 551
        },
        "outputId": "6ecc7459-4a1a-4000-b865-4b228828d39f"
      },
      "source": [
        "data.head()"
      ],
      "execution_count": 6,
      "outputs": [
        {
          "output_type": "execute_result",
          "data": {
            "text/html": [
              "<div>\n",
              "<style scoped>\n",
              "    .dataframe tbody tr th:only-of-type {\n",
              "        vertical-align: middle;\n",
              "    }\n",
              "\n",
              "    .dataframe tbody tr th {\n",
              "        vertical-align: top;\n",
              "    }\n",
              "\n",
              "    .dataframe thead th {\n",
              "        text-align: right;\n",
              "    }\n",
              "</style>\n",
              "<table border=\"1\" class=\"dataframe\">\n",
              "  <thead>\n",
              "    <tr style=\"text-align: right;\">\n",
              "      <th></th>\n",
              "      <th>Unnamed: 0</th>\n",
              "      <th>BOROUGH</th>\n",
              "      <th>NEIGHBORHOOD</th>\n",
              "      <th>BUILDING CLASS CATEGORY</th>\n",
              "      <th>TAX CLASS AT PRESENT</th>\n",
              "      <th>BLOCK</th>\n",
              "      <th>LOT</th>\n",
              "      <th>EASE-MENT</th>\n",
              "      <th>BUILDING CLASS AT PRESENT</th>\n",
              "      <th>ADDRESS</th>\n",
              "      <th>APARTMENT NUMBER</th>\n",
              "      <th>ZIP CODE</th>\n",
              "      <th>RESIDENTIAL UNITS</th>\n",
              "      <th>COMMERCIAL UNITS</th>\n",
              "      <th>TOTAL UNITS</th>\n",
              "      <th>LAND SQUARE FEET</th>\n",
              "      <th>GROSS SQUARE FEET</th>\n",
              "      <th>YEAR BUILT</th>\n",
              "      <th>TAX CLASS AT TIME OF SALE</th>\n",
              "      <th>BUILDING CLASS AT TIME OF SALE</th>\n",
              "      <th>SALE PRICE</th>\n",
              "      <th>SALE DATE</th>\n",
              "    </tr>\n",
              "  </thead>\n",
              "  <tbody>\n",
              "    <tr>\n",
              "      <th>0</th>\n",
              "      <td>4</td>\n",
              "      <td>1</td>\n",
              "      <td>ALPHABET CITY</td>\n",
              "      <td>07 RENTALS - WALKUP APARTMENTS</td>\n",
              "      <td>2A</td>\n",
              "      <td>392</td>\n",
              "      <td>6.0</td>\n",
              "      <td></td>\n",
              "      <td>C2</td>\n",
              "      <td>153 AVENUE B</td>\n",
              "      <td></td>\n",
              "      <td>10009.0</td>\n",
              "      <td>5.0</td>\n",
              "      <td>0.0</td>\n",
              "      <td>5.0</td>\n",
              "      <td>1633</td>\n",
              "      <td>6440</td>\n",
              "      <td>1900.0</td>\n",
              "      <td>2.0</td>\n",
              "      <td>C2</td>\n",
              "      <td>6625000</td>\n",
              "      <td>19-07-2017 00:00</td>\n",
              "    </tr>\n",
              "    <tr>\n",
              "      <th>1</th>\n",
              "      <td>5</td>\n",
              "      <td>1</td>\n",
              "      <td>ALPHABET CITY</td>\n",
              "      <td>07 RENTALS - WALKUP APARTMENTS</td>\n",
              "      <td>2</td>\n",
              "      <td>399</td>\n",
              "      <td>26.0</td>\n",
              "      <td></td>\n",
              "      <td>C7</td>\n",
              "      <td>234 EAST 4TH   STREET</td>\n",
              "      <td></td>\n",
              "      <td>10009.0</td>\n",
              "      <td>28.0</td>\n",
              "      <td>3.0</td>\n",
              "      <td>31.0</td>\n",
              "      <td>4616</td>\n",
              "      <td>18690</td>\n",
              "      <td>1900.0</td>\n",
              "      <td>2.0</td>\n",
              "      <td>C7</td>\n",
              "      <td>-</td>\n",
              "      <td>14-12-2016 00:00</td>\n",
              "    </tr>\n",
              "    <tr>\n",
              "      <th>2</th>\n",
              "      <td>6</td>\n",
              "      <td>1</td>\n",
              "      <td>ALPHABET CITY</td>\n",
              "      <td>07 RENTALS - WALKUP APARTMENTS</td>\n",
              "      <td>2</td>\n",
              "      <td>399</td>\n",
              "      <td>39.0</td>\n",
              "      <td></td>\n",
              "      <td>C7</td>\n",
              "      <td>197 EAST 3RD   STREET</td>\n",
              "      <td></td>\n",
              "      <td>10009.0</td>\n",
              "      <td>16.0</td>\n",
              "      <td>1.0</td>\n",
              "      <td>17.0</td>\n",
              "      <td>2212</td>\n",
              "      <td>7803</td>\n",
              "      <td>1900.0</td>\n",
              "      <td>2.0</td>\n",
              "      <td>C7</td>\n",
              "      <td>-</td>\n",
              "      <td>09-12-2016 00:00</td>\n",
              "    </tr>\n",
              "    <tr>\n",
              "      <th>3</th>\n",
              "      <td>7</td>\n",
              "      <td>1</td>\n",
              "      <td>ALPHABET CITY</td>\n",
              "      <td>07 RENTALS - WALKUP APARTMENTS</td>\n",
              "      <td>2B</td>\n",
              "      <td>402</td>\n",
              "      <td>21.0</td>\n",
              "      <td></td>\n",
              "      <td>C4</td>\n",
              "      <td>154 EAST 7TH STREET</td>\n",
              "      <td></td>\n",
              "      <td>10009.0</td>\n",
              "      <td>10.0</td>\n",
              "      <td>0.0</td>\n",
              "      <td>10.0</td>\n",
              "      <td>2272</td>\n",
              "      <td>6794</td>\n",
              "      <td>1913.0</td>\n",
              "      <td>2.0</td>\n",
              "      <td>C4</td>\n",
              "      <td>3936272</td>\n",
              "      <td>23-09-2016 00:00</td>\n",
              "    </tr>\n",
              "    <tr>\n",
              "      <th>4</th>\n",
              "      <td>8</td>\n",
              "      <td>1</td>\n",
              "      <td>ALPHABET CITY</td>\n",
              "      <td>07 RENTALS - WALKUP APARTMENTS</td>\n",
              "      <td>2A</td>\n",
              "      <td>404</td>\n",
              "      <td>55.0</td>\n",
              "      <td></td>\n",
              "      <td>C2</td>\n",
              "      <td>301 EAST 10TH   STREET</td>\n",
              "      <td></td>\n",
              "      <td>10009.0</td>\n",
              "      <td>6.0</td>\n",
              "      <td>0.0</td>\n",
              "      <td>6.0</td>\n",
              "      <td>2369</td>\n",
              "      <td>4615</td>\n",
              "      <td>1900.0</td>\n",
              "      <td>2.0</td>\n",
              "      <td>C2</td>\n",
              "      <td>8000000</td>\n",
              "      <td>17-11-2016 00:00</td>\n",
              "    </tr>\n",
              "  </tbody>\n",
              "</table>\n",
              "</div>"
            ],
            "text/plain": [
              "   Unnamed: 0  BOROUGH  ... SALE PRICE         SALE DATE\n",
              "0           4        1  ...    6625000  19-07-2017 00:00\n",
              "1           5        1  ...        -    14-12-2016 00:00\n",
              "2           6        1  ...        -    09-12-2016 00:00\n",
              "3           7        1  ...    3936272  23-09-2016 00:00\n",
              "4           8        1  ...    8000000  17-11-2016 00:00\n",
              "\n",
              "[5 rows x 22 columns]"
            ]
          },
          "metadata": {
            "tags": []
          },
          "execution_count": 6
        }
      ]
    },
    {
      "cell_type": "markdown",
      "metadata": {
        "id": "c7wqKzuBMejt",
        "colab_type": "text"
      },
      "source": [
        "# Objective 1"
      ]
    },
    {
      "cell_type": "code",
      "metadata": {
        "id": "LwLUYTQsMejt",
        "colab_type": "code",
        "colab": {}
      },
      "source": [
        "data.drop(columns=['Unnamed: 0','APARTMENT NUMBER','EASE-MENT','ADDRESS'], inplace=True)"
      ],
      "execution_count": 7,
      "outputs": []
    },
    {
      "cell_type": "code",
      "metadata": {
        "id": "I06_uKSKMejz",
        "colab_type": "code",
        "colab": {
          "base_uri": "https://localhost:8080/",
          "height": 435
        },
        "outputId": "3b5c5275-1cf8-487b-95b9-2f5634798ade"
      },
      "source": [
        "data.info()"
      ],
      "execution_count": 8,
      "outputs": [
        {
          "output_type": "stream",
          "text": [
            "<class 'pandas.core.frame.DataFrame'>\n",
            "RangeIndex: 25634 entries, 0 to 25633\n",
            "Data columns (total 18 columns):\n",
            " #   Column                          Non-Null Count  Dtype  \n",
            "---  ------                          --------------  -----  \n",
            " 0   BOROUGH                         25634 non-null  int64  \n",
            " 1   NEIGHBORHOOD                    25634 non-null  object \n",
            " 2   BUILDING CLASS CATEGORY         25634 non-null  object \n",
            " 3   TAX CLASS AT PRESENT            25634 non-null  object \n",
            " 4   BLOCK                           25634 non-null  int64  \n",
            " 5   LOT                             25633 non-null  float64\n",
            " 6   BUILDING CLASS AT PRESENT       25633 non-null  object \n",
            " 7   ZIP CODE                        25633 non-null  float64\n",
            " 8   RESIDENTIAL UNITS               25633 non-null  float64\n",
            " 9   COMMERCIAL UNITS                25633 non-null  float64\n",
            " 10  TOTAL UNITS                     25633 non-null  float64\n",
            " 11  LAND SQUARE FEET                25633 non-null  object \n",
            " 12  GROSS SQUARE FEET               25633 non-null  object \n",
            " 13  YEAR BUILT                      25633 non-null  float64\n",
            " 14  TAX CLASS AT TIME OF SALE       25633 non-null  float64\n",
            " 15  BUILDING CLASS AT TIME OF SALE  25633 non-null  object \n",
            " 16  SALE PRICE                      25633 non-null  object \n",
            " 17  SALE DATE                       25633 non-null  object \n",
            "dtypes: float64(7), int64(2), object(9)\n",
            "memory usage: 3.5+ MB\n"
          ],
          "name": "stdout"
        }
      ]
    },
    {
      "cell_type": "code",
      "metadata": {
        "id": "_wtioNLfMej5",
        "colab_type": "code",
        "colab": {}
      },
      "source": [
        "data['BOROUGH_code'] = data['BOROUGH'].astype('category')\n",
        "data['NEIGHBORHOOD_code'] = data['NEIGHBORHOOD'].astype('category')\n",
        "data['BUILDING CLASS CATEGORY_code'] = data['BUILDING CLASS CATEGORY'].astype('category')\n",
        "data['TAX CLASS AT PRESENT_code'] = data['TAX CLASS AT PRESENT'].astype('category')\n",
        "data['BLOCK_code'] = data['BLOCK'].astype('category')\n",
        "data['LOT_code'] = data['LOT'].astype('category')\n",
        "data['BUILDING CLASS AT PRESENT_code'] = data['BUILDING CLASS AT PRESENT'].astype('category')\n",
        "data['ZIP CODE_code'] = data['ZIP CODE'].astype('category')\n",
        "data['TAX CLASS AT TIME OF SALE_code'] = data['TAX CLASS AT TIME OF SALE'].astype('category')\n",
        "data['BUILDING CLASS AT TIME OF SALE_code'] = data['BUILDING CLASS AT TIME OF SALE'].astype('category')\n",
        "data['YEAR BUILT_code'] = data['YEAR BUILT'].astype('category')"
      ],
      "execution_count": 9,
      "outputs": []
    },
    {
      "cell_type": "code",
      "metadata": {
        "id": "cCajJqTBMej8",
        "colab_type": "code",
        "colab": {}
      },
      "source": [
        "data.drop(columns=['BOROUGH','NEIGHBORHOOD','BUILDING CLASS CATEGORY','TAX CLASS AT PRESENT','BLOCK','LOT','BUILDING CLASS AT PRESENT','ZIP CODE','TAX CLASS AT TIME OF SALE','BUILDING CLASS AT TIME OF SALE','YEAR BUILT'], inplace=True)"
      ],
      "execution_count": 10,
      "outputs": []
    },
    {
      "cell_type": "code",
      "metadata": {
        "id": "1bgtu2JbMekC",
        "colab_type": "code",
        "colab": {
          "base_uri": "https://localhost:8080/",
          "height": 435
        },
        "outputId": "3df92aa8-46d2-41e2-f8c4-595f5ebedced"
      },
      "source": [
        "data.info()"
      ],
      "execution_count": 11,
      "outputs": [
        {
          "output_type": "stream",
          "text": [
            "<class 'pandas.core.frame.DataFrame'>\n",
            "RangeIndex: 25634 entries, 0 to 25633\n",
            "Data columns (total 18 columns):\n",
            " #   Column                               Non-Null Count  Dtype   \n",
            "---  ------                               --------------  -----   \n",
            " 0   RESIDENTIAL UNITS                    25633 non-null  float64 \n",
            " 1   COMMERCIAL UNITS                     25633 non-null  float64 \n",
            " 2   TOTAL UNITS                          25633 non-null  float64 \n",
            " 3   LAND SQUARE FEET                     25633 non-null  object  \n",
            " 4   GROSS SQUARE FEET                    25633 non-null  object  \n",
            " 5   SALE PRICE                           25633 non-null  object  \n",
            " 6   SALE DATE                            25633 non-null  object  \n",
            " 7   BOROUGH_code                         25634 non-null  category\n",
            " 8   NEIGHBORHOOD_code                    25634 non-null  category\n",
            " 9   BUILDING CLASS CATEGORY_code         25634 non-null  category\n",
            " 10  TAX CLASS AT PRESENT_code            25634 non-null  category\n",
            " 11  BLOCK_code                           25634 non-null  category\n",
            " 12  LOT_code                             25633 non-null  category\n",
            " 13  BUILDING CLASS AT PRESENT_code       25633 non-null  category\n",
            " 14  ZIP CODE_code                        25633 non-null  category\n",
            " 15  TAX CLASS AT TIME OF SALE_code       25633 non-null  category\n",
            " 16  BUILDING CLASS AT TIME OF SALE_code  25633 non-null  category\n",
            " 17  YEAR BUILT_code                      25633 non-null  category\n",
            "dtypes: category(11), float64(3), object(4)\n",
            "memory usage: 2.1+ MB\n"
          ],
          "name": "stdout"
        }
      ]
    },
    {
      "cell_type": "code",
      "metadata": {
        "id": "J6expq-5MekF",
        "colab_type": "code",
        "colab": {}
      },
      "source": [
        "data['RESIDENTIAL UNITS'] = pd.to_numeric(data['RESIDENTIAL UNITS'], errors='coerce')\n",
        "data['COMMERCIAL UNITS'] = pd.to_numeric(data['COMMERCIAL UNITS'], errors='coerce')\n",
        "data['TOTAL UNITS'] = pd.to_numeric(data['TOTAL UNITS'], errors='coerce')\n",
        "data['LAND SQUARE FEET'] = pd.to_numeric(data['LAND SQUARE FEET'], errors='coerce')\n",
        "data['GROSS SQUARE FEET'] = pd.to_numeric(data['GROSS SQUARE FEET'], errors='coerce')\n",
        "data['SALE PRICE'] = pd.to_numeric(data['SALE PRICE'], errors='coerce')"
      ],
      "execution_count": 12,
      "outputs": []
    },
    {
      "cell_type": "code",
      "metadata": {
        "id": "HFpLbd7RMekJ",
        "colab_type": "code",
        "colab": {}
      },
      "source": [
        "data = data[data['SALE PRICE'] >= 100000]\n",
        "data = data[data['SALE PRICE'] <= 5000000]"
      ],
      "execution_count": 13,
      "outputs": []
    },
    {
      "cell_type": "code",
      "metadata": {
        "id": "vRqRHG88MekM",
        "colab_type": "code",
        "colab": {}
      },
      "source": [
        "data['LAND SQUARE FEET'].fillna((data['LAND SQUARE FEET'].mean()), inplace=True)\n",
        "data['GROSS SQUARE FEET'].fillna((data['GROSS SQUARE FEET'].mean()), inplace=True)\n",
        "data.rename(columns={'LAND SQUARE FEET': 'LAND_SQUARE_FEET', 'GROSS SQUARE FEET': 'GROSS_SQUARE_FEET'}, inplace=True)"
      ],
      "execution_count": 14,
      "outputs": []
    },
    {
      "cell_type": "code",
      "metadata": {
        "id": "whraqv8kMekQ",
        "colab_type": "code",
        "colab": {}
      },
      "source": [
        "import datetime as dt\n",
        "data['SALE DATE'] = pd.to_datetime(data['SALE DATE'], errors='coerce')\n",
        "data['SALE_YEAR'] = data['SALE DATE'].dt.year\n",
        "data['SALE_MONTH'] = data['SALE DATE'].dt.month\n",
        "data['SALE_Quarter'] = data['SALE DATE'].dt.quarter\n",
        "data['SALE_DAY'] = data['SALE DATE'].dt.day\n",
        "data.drop(columns=['SALE DATE'], inplace=True)"
      ],
      "execution_count": 15,
      "outputs": []
    },
    {
      "cell_type": "code",
      "metadata": {
        "id": "Wi3rWczmMekU",
        "colab_type": "code",
        "colab": {}
      },
      "source": [
        "#data[['SALE DATE','SALE_YEAR','SALE_MONTH','SALE_Quarter','SALE_DAY']]"
      ],
      "execution_count": 16,
      "outputs": []
    },
    {
      "cell_type": "code",
      "metadata": {
        "id": "FAlqRqQCMekY",
        "colab_type": "code",
        "colab": {}
      },
      "source": [
        "data.rename(columns={'SALE PRICE': 'SALE_PRICE'}, inplace=True)\n",
        "y = data['SALE_PRICE']\n",
        "y_norm = ((y ** 2).sum() ** .5)\n",
        "y = y.apply(lambda x: x/ y_norm )"
      ],
      "execution_count": 17,
      "outputs": []
    },
    {
      "cell_type": "code",
      "metadata": {
        "id": "cFj4KlU-Meka",
        "colab_type": "code",
        "colab": {
          "base_uri": "https://localhost:8080/",
          "height": 33
        },
        "outputId": "56c71635-cbc2-4afd-d970-f3bc0a35f230"
      },
      "source": [
        "y_norm"
      ],
      "execution_count": 18,
      "outputs": [
        {
          "output_type": "execute_result",
          "data": {
            "text/plain": [
              "200279009.43964908"
            ]
          },
          "metadata": {
            "tags": []
          },
          "execution_count": 18
        }
      ]
    },
    {
      "cell_type": "code",
      "metadata": {
        "id": "tmYtAJi9Meke",
        "colab_type": "code",
        "colab": {
          "base_uri": "https://localhost:8080/",
          "height": 368
        },
        "outputId": "8d855127-e91b-4e57-8395-0148b7361ee3"
      },
      "source": [
        "data.columns.tolist()"
      ],
      "execution_count": 19,
      "outputs": [
        {
          "output_type": "execute_result",
          "data": {
            "text/plain": [
              "['RESIDENTIAL UNITS',\n",
              " 'COMMERCIAL UNITS',\n",
              " 'TOTAL UNITS',\n",
              " 'LAND_SQUARE_FEET',\n",
              " 'GROSS_SQUARE_FEET',\n",
              " 'SALE_PRICE',\n",
              " 'BOROUGH_code',\n",
              " 'NEIGHBORHOOD_code',\n",
              " 'BUILDING CLASS CATEGORY_code',\n",
              " 'TAX CLASS AT PRESENT_code',\n",
              " 'BLOCK_code',\n",
              " 'LOT_code',\n",
              " 'BUILDING CLASS AT PRESENT_code',\n",
              " 'ZIP CODE_code',\n",
              " 'TAX CLASS AT TIME OF SALE_code',\n",
              " 'BUILDING CLASS AT TIME OF SALE_code',\n",
              " 'YEAR BUILT_code',\n",
              " 'SALE_YEAR',\n",
              " 'SALE_MONTH',\n",
              " 'SALE_Quarter',\n",
              " 'SALE_DAY']"
            ]
          },
          "metadata": {
            "tags": []
          },
          "execution_count": 19
        }
      ]
    },
    {
      "cell_type": "code",
      "metadata": {
        "id": "sh7KfgKKMekh",
        "colab_type": "code",
        "colab": {}
      },
      "source": [
        "data=data[['RESIDENTIAL UNITS',\n",
        " 'COMMERCIAL UNITS',\n",
        " 'TOTAL UNITS',\n",
        " 'LAND_SQUARE_FEET',\n",
        " 'GROSS_SQUARE_FEET',\n",
        " 'BOROUGH_code',\n",
        " 'NEIGHBORHOOD_code',\n",
        " 'BUILDING CLASS CATEGORY_code',\n",
        " 'TAX CLASS AT PRESENT_code',\n",
        " 'BLOCK_code',\n",
        " 'LOT_code',\n",
        " 'BUILDING CLASS AT PRESENT_code',\n",
        " 'ZIP CODE_code',\n",
        " 'TAX CLASS AT TIME OF SALE_code',\n",
        " 'BUILDING CLASS AT TIME OF SALE_code',\n",
        " 'YEAR BUILT_code',\n",
        " 'SALE_YEAR',\n",
        " 'SALE_MONTH',\n",
        " 'SALE_Quarter',\n",
        " 'SALE_DAY',\n",
        " 'SALE_PRICE']]"
      ],
      "execution_count": 20,
      "outputs": []
    },
    {
      "cell_type": "code",
      "metadata": {
        "id": "s0OGhte6Mekn",
        "colab_type": "code",
        "colab": {}
      },
      "source": [
        "X= data.iloc[:, :-1]"
      ],
      "execution_count": 21,
      "outputs": []
    },
    {
      "cell_type": "code",
      "metadata": {
        "id": "1x7c4eRmMeks",
        "colab_type": "code",
        "colab": {
          "base_uri": "https://localhost:8080/",
          "height": 434
        },
        "outputId": "fef330fa-7f4f-48a0-bab9-7458239acafd"
      },
      "source": [
        "X.head()"
      ],
      "execution_count": 22,
      "outputs": [
        {
          "output_type": "execute_result",
          "data": {
            "text/html": [
              "<div>\n",
              "<style scoped>\n",
              "    .dataframe tbody tr th:only-of-type {\n",
              "        vertical-align: middle;\n",
              "    }\n",
              "\n",
              "    .dataframe tbody tr th {\n",
              "        vertical-align: top;\n",
              "    }\n",
              "\n",
              "    .dataframe thead th {\n",
              "        text-align: right;\n",
              "    }\n",
              "</style>\n",
              "<table border=\"1\" class=\"dataframe\">\n",
              "  <thead>\n",
              "    <tr style=\"text-align: right;\">\n",
              "      <th></th>\n",
              "      <th>RESIDENTIAL UNITS</th>\n",
              "      <th>COMMERCIAL UNITS</th>\n",
              "      <th>TOTAL UNITS</th>\n",
              "      <th>LAND_SQUARE_FEET</th>\n",
              "      <th>GROSS_SQUARE_FEET</th>\n",
              "      <th>BOROUGH_code</th>\n",
              "      <th>NEIGHBORHOOD_code</th>\n",
              "      <th>BUILDING CLASS CATEGORY_code</th>\n",
              "      <th>TAX CLASS AT PRESENT_code</th>\n",
              "      <th>BLOCK_code</th>\n",
              "      <th>LOT_code</th>\n",
              "      <th>BUILDING CLASS AT PRESENT_code</th>\n",
              "      <th>ZIP CODE_code</th>\n",
              "      <th>TAX CLASS AT TIME OF SALE_code</th>\n",
              "      <th>BUILDING CLASS AT TIME OF SALE_code</th>\n",
              "      <th>YEAR BUILT_code</th>\n",
              "      <th>SALE_YEAR</th>\n",
              "      <th>SALE_MONTH</th>\n",
              "      <th>SALE_Quarter</th>\n",
              "      <th>SALE_DAY</th>\n",
              "    </tr>\n",
              "  </thead>\n",
              "  <tbody>\n",
              "    <tr>\n",
              "      <th>3</th>\n",
              "      <td>10.0</td>\n",
              "      <td>0.0</td>\n",
              "      <td>10.0</td>\n",
              "      <td>2272.000000</td>\n",
              "      <td>6794.00000</td>\n",
              "      <td>1</td>\n",
              "      <td>ALPHABET CITY</td>\n",
              "      <td>07 RENTALS - WALKUP APARTMENTS</td>\n",
              "      <td>2B</td>\n",
              "      <td>402</td>\n",
              "      <td>21.0</td>\n",
              "      <td>C4</td>\n",
              "      <td>10009.0</td>\n",
              "      <td>2.0</td>\n",
              "      <td>C4</td>\n",
              "      <td>1913.0</td>\n",
              "      <td>2016</td>\n",
              "      <td>9</td>\n",
              "      <td>3</td>\n",
              "      <td>23</td>\n",
              "    </tr>\n",
              "    <tr>\n",
              "      <th>6</th>\n",
              "      <td>8.0</td>\n",
              "      <td>0.0</td>\n",
              "      <td>8.0</td>\n",
              "      <td>1750.000000</td>\n",
              "      <td>4226.00000</td>\n",
              "      <td>1</td>\n",
              "      <td>ALPHABET CITY</td>\n",
              "      <td>07 RENTALS - WALKUP APARTMENTS</td>\n",
              "      <td>2B</td>\n",
              "      <td>406</td>\n",
              "      <td>32.0</td>\n",
              "      <td>C4</td>\n",
              "      <td>10009.0</td>\n",
              "      <td>2.0</td>\n",
              "      <td>C4</td>\n",
              "      <td>1920.0</td>\n",
              "      <td>2016</td>\n",
              "      <td>9</td>\n",
              "      <td>3</td>\n",
              "      <td>23</td>\n",
              "    </tr>\n",
              "    <tr>\n",
              "      <th>13</th>\n",
              "      <td>0.0</td>\n",
              "      <td>0.0</td>\n",
              "      <td>0.0</td>\n",
              "      <td>2459.223863</td>\n",
              "      <td>2863.60083</td>\n",
              "      <td>1</td>\n",
              "      <td>ALPHABET CITY</td>\n",
              "      <td>09 COOPS - WALKUP APARTMENTS</td>\n",
              "      <td>2</td>\n",
              "      <td>373</td>\n",
              "      <td>40.0</td>\n",
              "      <td>C6</td>\n",
              "      <td>10009.0</td>\n",
              "      <td>2.0</td>\n",
              "      <td>C6</td>\n",
              "      <td>1920.0</td>\n",
              "      <td>2017</td>\n",
              "      <td>10</td>\n",
              "      <td>4</td>\n",
              "      <td>3</td>\n",
              "    </tr>\n",
              "    <tr>\n",
              "      <th>15</th>\n",
              "      <td>0.0</td>\n",
              "      <td>0.0</td>\n",
              "      <td>0.0</td>\n",
              "      <td>2459.223863</td>\n",
              "      <td>2863.60083</td>\n",
              "      <td>1</td>\n",
              "      <td>ALPHABET CITY</td>\n",
              "      <td>09 COOPS - WALKUP APARTMENTS</td>\n",
              "      <td>2</td>\n",
              "      <td>373</td>\n",
              "      <td>40.0</td>\n",
              "      <td>C6</td>\n",
              "      <td>10009.0</td>\n",
              "      <td>2.0</td>\n",
              "      <td>C6</td>\n",
              "      <td>1920.0</td>\n",
              "      <td>2017</td>\n",
              "      <td>9</td>\n",
              "      <td>3</td>\n",
              "      <td>6</td>\n",
              "    </tr>\n",
              "    <tr>\n",
              "      <th>16</th>\n",
              "      <td>0.0</td>\n",
              "      <td>0.0</td>\n",
              "      <td>0.0</td>\n",
              "      <td>2459.223863</td>\n",
              "      <td>2863.60083</td>\n",
              "      <td>1</td>\n",
              "      <td>ALPHABET CITY</td>\n",
              "      <td>09 COOPS - WALKUP APARTMENTS</td>\n",
              "      <td>2</td>\n",
              "      <td>373</td>\n",
              "      <td>40.0</td>\n",
              "      <td>C6</td>\n",
              "      <td>10009.0</td>\n",
              "      <td>2.0</td>\n",
              "      <td>C6</td>\n",
              "      <td>1920.0</td>\n",
              "      <td>2017</td>\n",
              "      <td>7</td>\n",
              "      <td>3</td>\n",
              "      <td>14</td>\n",
              "    </tr>\n",
              "  </tbody>\n",
              "</table>\n",
              "</div>"
            ],
            "text/plain": [
              "    RESIDENTIAL UNITS  COMMERCIAL UNITS  ...  SALE_Quarter  SALE_DAY\n",
              "3                10.0               0.0  ...             3        23\n",
              "6                 8.0               0.0  ...             3        23\n",
              "13                0.0               0.0  ...             4         3\n",
              "15                0.0               0.0  ...             3         6\n",
              "16                0.0               0.0  ...             3        14\n",
              "\n",
              "[5 rows x 20 columns]"
            ]
          },
          "metadata": {
            "tags": []
          },
          "execution_count": 22
        }
      ]
    },
    {
      "cell_type": "code",
      "metadata": {
        "id": "UDtOCzq_Mekw",
        "colab_type": "code",
        "colab": {}
      },
      "source": [
        "from sklearn.preprocessing import normalize\n",
        "X['LAND_SQUARE_FEET'] = normalize(X['LAND_SQUARE_FEET'].values.reshape(1,-1))[0]\n",
        "X['GROSS_SQUARE_FEET'] = normalize(X['GROSS_SQUARE_FEET'].values.reshape(1,-1))[0]"
      ],
      "execution_count": 23,
      "outputs": []
    },
    {
      "cell_type": "code",
      "metadata": {
        "id": "r_p6pSfrMek0",
        "colab_type": "code",
        "colab": {}
      },
      "source": [
        "X = X.values"
      ],
      "execution_count": 24,
      "outputs": []
    },
    {
      "cell_type": "code",
      "metadata": {
        "id": "TViCgH6EMek3",
        "colab_type": "code",
        "colab": {}
      },
      "source": [
        "from sklearn.model_selection import train_test_split\n",
        "train, test= train_test_split(X,test_size=0.20, random_state=42)"
      ],
      "execution_count": 25,
      "outputs": []
    },
    {
      "cell_type": "code",
      "metadata": {
        "id": "AUDw72l9Mek7",
        "colab_type": "code",
        "colab": {}
      },
      "source": [
        "data_1 = \"{:.2f}\".format(y_norm)"
      ],
      "execution_count": 26,
      "outputs": []
    },
    {
      "cell_type": "code",
      "metadata": {
        "id": "7UDMe-ooMelB",
        "colab_type": "code",
        "colab": {
          "base_uri": "https://localhost:8080/",
          "height": 35
        },
        "outputId": "21cce219-aa7c-4668-e614-4bc79cc6f289"
      },
      "source": [
        "data_1"
      ],
      "execution_count": 27,
      "outputs": [
        {
          "output_type": "execute_result",
          "data": {
            "application/vnd.google.colaboratory.intrinsic+json": {
              "type": "string"
            },
            "text/plain": [
              "'200279009.44'"
            ]
          },
          "metadata": {
            "tags": []
          },
          "execution_count": 27
        }
      ]
    },
    {
      "cell_type": "markdown",
      "metadata": {
        "id": "u-u3GxXLMelI",
        "colab_type": "text"
      },
      "source": [
        "# Objective 2"
      ]
    },
    {
      "cell_type": "code",
      "metadata": {
        "id": "C81EaOPOMelJ",
        "colab_type": "code",
        "colab": {}
      },
      "source": [
        "from statsmodels.regression.quantile_regression import QuantReg\n",
        "import statsmodels.formula.api as smf\n",
        "model_1 = smf.quantreg('SALE_PRICE ~ LAND_SQUARE_FEET',data)"
      ],
      "execution_count": 28,
      "outputs": []
    },
    {
      "cell_type": "code",
      "metadata": {
        "id": "BQpbvGwFMelN",
        "colab_type": "code",
        "colab": {}
      },
      "source": [
        "quantiles = np.arange(0.1,1,0.1)"
      ],
      "execution_count": 29,
      "outputs": []
    },
    {
      "cell_type": "code",
      "metadata": {
        "id": "cCCjsYvoMelV",
        "colab_type": "code",
        "colab": {
          "base_uri": "https://localhost:8080/",
          "height": 84
        },
        "outputId": "caddea9c-246b-45f6-e693-5ce50270972a"
      },
      "source": [
        "params = []\n",
        "\n",
        "for qt in quantiles:\n",
        "    res = model_1.fit(q = qt )\n",
        "    params.append([qt, res.params['Intercept']])\n",
        "\n",
        "\n",
        "data_2 = pd.DataFrame(data = params, columns = ['qt','Intercept'])"
      ],
      "execution_count": 30,
      "outputs": [
        {
          "output_type": "stream",
          "text": [
            "/usr/local/lib/python3.6/dist-packages/statsmodels/regression/quantile_regression.py:192: IterationLimitWarning: Maximum number of iterations (1000) reached.\n",
            "  \") reached.\", IterationLimitWarning)\n",
            "/usr/local/lib/python3.6/dist-packages/statsmodels/regression/quantile_regression.py:187: ConvergenceWarning: Convergence cycle detected\n",
            "  warnings.warn(\"Convergence cycle detected\", ConvergenceWarning)\n"
          ],
          "name": "stderr"
        }
      ]
    },
    {
      "cell_type": "code",
      "metadata": {
        "id": "L6v4kg4sMelY",
        "colab_type": "code",
        "colab": {
          "base_uri": "https://localhost:8080/",
          "height": 280
        },
        "outputId": "81bc8536-fb27-44f4-a700-ccf123e5bba5"
      },
      "source": [
        "res = model_1.fit(q=0.1)\n",
        "res.summary()"
      ],
      "execution_count": 31,
      "outputs": [
        {
          "output_type": "execute_result",
          "data": {
            "text/html": [
              "<table class=\"simpletable\">\n",
              "<caption>QuantReg Regression Results</caption>\n",
              "<tr>\n",
              "  <th>Dep. Variable:</th>    <td>SALE_PRICE</td>    <th>  Pseudo R-squared:  </th> <td> 0.03412</td> \n",
              "</tr>\n",
              "<tr>\n",
              "  <th>Model:</th>             <td>QuantReg</td>     <th>  Bandwidth:         </th> <td>1.168e+05</td>\n",
              "</tr>\n",
              "<tr>\n",
              "  <th>Method:</th>          <td>Least Squares</td>  <th>  Sparsity:          </th> <td>1.163e+06</td>\n",
              "</tr>\n",
              "<tr>\n",
              "  <th>Date:</th>          <td>Wed, 02 Sep 2020</td> <th>  No. Observations:  </th>  <td> 17089</td>  \n",
              "</tr>\n",
              "<tr>\n",
              "  <th>Time:</th>              <td>19:03:03</td>     <th>  Df Residuals:      </th>  <td> 17087</td>  \n",
              "</tr>\n",
              "<tr>\n",
              "  <th> </th>                      <td> </td>        <th>  Df Model:          </th>  <td>     1</td>  \n",
              "</tr>\n",
              "</table>\n",
              "<table class=\"simpletable\">\n",
              "<tr>\n",
              "          <td></td>            <th>coef</th>     <th>std err</th>      <th>t</th>      <th>P>|t|</th>  <th>[0.025</th>    <th>0.975]</th>  \n",
              "</tr>\n",
              "<tr>\n",
              "  <th>Intercept</th>        <td>  1.89e+05</td> <td> 6801.648</td> <td>   27.787</td> <td> 0.000</td> <td> 1.76e+05</td> <td> 2.02e+05</td>\n",
              "</tr>\n",
              "<tr>\n",
              "  <th>LAND_SQUARE_FEET</th> <td>   55.5000</td> <td>    2.543</td> <td>   21.824</td> <td> 0.000</td> <td>   50.515</td> <td>   60.485</td>\n",
              "</tr>\n",
              "</table><br/><br/>The condition number is large, 4.97e+03. This might indicate that there are<br/>strong multicollinearity or other numerical problems."
            ],
            "text/plain": [
              "<class 'statsmodels.iolib.summary.Summary'>\n",
              "\"\"\"\n",
              "                         QuantReg Regression Results                          \n",
              "==============================================================================\n",
              "Dep. Variable:             SALE_PRICE   Pseudo R-squared:              0.03412\n",
              "Model:                       QuantReg   Bandwidth:                   1.168e+05\n",
              "Method:                 Least Squares   Sparsity:                    1.163e+06\n",
              "Date:                Wed, 02 Sep 2020   No. Observations:                17089\n",
              "Time:                        19:03:03   Df Residuals:                    17087\n",
              "                                        Df Model:                            1\n",
              "====================================================================================\n",
              "                       coef    std err          t      P>|t|      [0.025      0.975]\n",
              "------------------------------------------------------------------------------------\n",
              "Intercept          1.89e+05   6801.648     27.787      0.000    1.76e+05    2.02e+05\n",
              "LAND_SQUARE_FEET    55.5000      2.543     21.824      0.000      50.515      60.485\n",
              "====================================================================================\n",
              "\n",
              "The condition number is large, 4.97e+03. This might indicate that there are\n",
              "strong multicollinearity or other numerical problems.\n",
              "\"\"\""
            ]
          },
          "metadata": {
            "tags": []
          },
          "execution_count": 31
        }
      ]
    },
    {
      "cell_type": "code",
      "metadata": {
        "id": "zNfJYs4mMeld",
        "colab_type": "code",
        "colab": {
          "base_uri": "https://localhost:8080/",
          "height": 316
        },
        "outputId": "29f5e8fb-c886-41df-efb3-feabe59feb34"
      },
      "source": [
        "data_2"
      ],
      "execution_count": 32,
      "outputs": [
        {
          "output_type": "execute_result",
          "data": {
            "text/html": [
              "<div>\n",
              "<style scoped>\n",
              "    .dataframe tbody tr th:only-of-type {\n",
              "        vertical-align: middle;\n",
              "    }\n",
              "\n",
              "    .dataframe tbody tr th {\n",
              "        vertical-align: top;\n",
              "    }\n",
              "\n",
              "    .dataframe thead th {\n",
              "        text-align: right;\n",
              "    }\n",
              "</style>\n",
              "<table border=\"1\" class=\"dataframe\">\n",
              "  <thead>\n",
              "    <tr style=\"text-align: right;\">\n",
              "      <th></th>\n",
              "      <th>qt</th>\n",
              "      <th>Intercept</th>\n",
              "    </tr>\n",
              "  </thead>\n",
              "  <tbody>\n",
              "    <tr>\n",
              "      <th>0</th>\n",
              "      <td>0.1</td>\n",
              "      <td>1.890000e+05</td>\n",
              "    </tr>\n",
              "    <tr>\n",
              "      <th>1</th>\n",
              "      <td>0.2</td>\n",
              "      <td>2.350000e+05</td>\n",
              "    </tr>\n",
              "    <tr>\n",
              "      <th>2</th>\n",
              "      <td>0.3</td>\n",
              "      <td>2.850000e+05</td>\n",
              "    </tr>\n",
              "    <tr>\n",
              "      <th>3</th>\n",
              "      <td>0.4</td>\n",
              "      <td>3.370000e+05</td>\n",
              "    </tr>\n",
              "    <tr>\n",
              "      <th>4</th>\n",
              "      <td>0.5</td>\n",
              "      <td>3.836285e+05</td>\n",
              "    </tr>\n",
              "    <tr>\n",
              "      <th>5</th>\n",
              "      <td>0.6</td>\n",
              "      <td>4.850000e+05</td>\n",
              "    </tr>\n",
              "    <tr>\n",
              "      <th>6</th>\n",
              "      <td>0.7</td>\n",
              "      <td>6.675000e+05</td>\n",
              "    </tr>\n",
              "    <tr>\n",
              "      <th>7</th>\n",
              "      <td>0.8</td>\n",
              "      <td>9.860022e+05</td>\n",
              "    </tr>\n",
              "    <tr>\n",
              "      <th>8</th>\n",
              "      <td>0.9</td>\n",
              "      <td>1.748872e+06</td>\n",
              "    </tr>\n",
              "  </tbody>\n",
              "</table>\n",
              "</div>"
            ],
            "text/plain": [
              "    qt     Intercept\n",
              "0  0.1  1.890000e+05\n",
              "1  0.2  2.350000e+05\n",
              "2  0.3  2.850000e+05\n",
              "3  0.4  3.370000e+05\n",
              "4  0.5  3.836285e+05\n",
              "5  0.6  4.850000e+05\n",
              "6  0.7  6.675000e+05\n",
              "7  0.8  9.860022e+05\n",
              "8  0.9  1.748872e+06"
            ]
          },
          "metadata": {
            "tags": []
          },
          "execution_count": 32
        }
      ]
    },
    {
      "cell_type": "markdown",
      "metadata": {
        "id": "P6Vx0c38Melg",
        "colab_type": "text"
      },
      "source": [
        "# Objective 3"
      ]
    },
    {
      "cell_type": "code",
      "metadata": {
        "id": "48P_QRG6Melh",
        "colab_type": "code",
        "colab": {
          "base_uri": "https://localhost:8080/",
          "height": 809
        },
        "outputId": "aa418de7-edc2-4b0a-ced0-0883ae88f5b8"
      },
      "source": [
        "X = data[data.columns.difference(['SALE_PRICE'])]\n",
        "X"
      ],
      "execution_count": 33,
      "outputs": [
        {
          "output_type": "execute_result",
          "data": {
            "text/html": [
              "<div>\n",
              "<style scoped>\n",
              "    .dataframe tbody tr th:only-of-type {\n",
              "        vertical-align: middle;\n",
              "    }\n",
              "\n",
              "    .dataframe tbody tr th {\n",
              "        vertical-align: top;\n",
              "    }\n",
              "\n",
              "    .dataframe thead th {\n",
              "        text-align: right;\n",
              "    }\n",
              "</style>\n",
              "<table border=\"1\" class=\"dataframe\">\n",
              "  <thead>\n",
              "    <tr style=\"text-align: right;\">\n",
              "      <th></th>\n",
              "      <th>BLOCK_code</th>\n",
              "      <th>BOROUGH_code</th>\n",
              "      <th>BUILDING CLASS AT PRESENT_code</th>\n",
              "      <th>BUILDING CLASS AT TIME OF SALE_code</th>\n",
              "      <th>BUILDING CLASS CATEGORY_code</th>\n",
              "      <th>COMMERCIAL UNITS</th>\n",
              "      <th>GROSS_SQUARE_FEET</th>\n",
              "      <th>LAND_SQUARE_FEET</th>\n",
              "      <th>LOT_code</th>\n",
              "      <th>NEIGHBORHOOD_code</th>\n",
              "      <th>RESIDENTIAL UNITS</th>\n",
              "      <th>SALE_DAY</th>\n",
              "      <th>SALE_MONTH</th>\n",
              "      <th>SALE_Quarter</th>\n",
              "      <th>SALE_YEAR</th>\n",
              "      <th>TAX CLASS AT PRESENT_code</th>\n",
              "      <th>TAX CLASS AT TIME OF SALE_code</th>\n",
              "      <th>TOTAL UNITS</th>\n",
              "      <th>YEAR BUILT_code</th>\n",
              "      <th>ZIP CODE_code</th>\n",
              "    </tr>\n",
              "  </thead>\n",
              "  <tbody>\n",
              "    <tr>\n",
              "      <th>3</th>\n",
              "      <td>402</td>\n",
              "      <td>1</td>\n",
              "      <td>C4</td>\n",
              "      <td>C4</td>\n",
              "      <td>07 RENTALS - WALKUP APARTMENTS</td>\n",
              "      <td>0.0</td>\n",
              "      <td>6794.00000</td>\n",
              "      <td>2272.000000</td>\n",
              "      <td>21.0</td>\n",
              "      <td>ALPHABET CITY</td>\n",
              "      <td>10.0</td>\n",
              "      <td>23</td>\n",
              "      <td>9</td>\n",
              "      <td>3</td>\n",
              "      <td>2016</td>\n",
              "      <td>2B</td>\n",
              "      <td>2.0</td>\n",
              "      <td>10.0</td>\n",
              "      <td>1913.0</td>\n",
              "      <td>10009.0</td>\n",
              "    </tr>\n",
              "    <tr>\n",
              "      <th>6</th>\n",
              "      <td>406</td>\n",
              "      <td>1</td>\n",
              "      <td>C4</td>\n",
              "      <td>C4</td>\n",
              "      <td>07 RENTALS - WALKUP APARTMENTS</td>\n",
              "      <td>0.0</td>\n",
              "      <td>4226.00000</td>\n",
              "      <td>1750.000000</td>\n",
              "      <td>32.0</td>\n",
              "      <td>ALPHABET CITY</td>\n",
              "      <td>8.0</td>\n",
              "      <td>23</td>\n",
              "      <td>9</td>\n",
              "      <td>3</td>\n",
              "      <td>2016</td>\n",
              "      <td>2B</td>\n",
              "      <td>2.0</td>\n",
              "      <td>8.0</td>\n",
              "      <td>1920.0</td>\n",
              "      <td>10009.0</td>\n",
              "    </tr>\n",
              "    <tr>\n",
              "      <th>13</th>\n",
              "      <td>373</td>\n",
              "      <td>1</td>\n",
              "      <td>C6</td>\n",
              "      <td>C6</td>\n",
              "      <td>09 COOPS - WALKUP APARTMENTS</td>\n",
              "      <td>0.0</td>\n",
              "      <td>2863.60083</td>\n",
              "      <td>2459.223863</td>\n",
              "      <td>40.0</td>\n",
              "      <td>ALPHABET CITY</td>\n",
              "      <td>0.0</td>\n",
              "      <td>3</td>\n",
              "      <td>10</td>\n",
              "      <td>4</td>\n",
              "      <td>2017</td>\n",
              "      <td>2</td>\n",
              "      <td>2.0</td>\n",
              "      <td>0.0</td>\n",
              "      <td>1920.0</td>\n",
              "      <td>10009.0</td>\n",
              "    </tr>\n",
              "    <tr>\n",
              "      <th>15</th>\n",
              "      <td>373</td>\n",
              "      <td>1</td>\n",
              "      <td>C6</td>\n",
              "      <td>C6</td>\n",
              "      <td>09 COOPS - WALKUP APARTMENTS</td>\n",
              "      <td>0.0</td>\n",
              "      <td>2863.60083</td>\n",
              "      <td>2459.223863</td>\n",
              "      <td>40.0</td>\n",
              "      <td>ALPHABET CITY</td>\n",
              "      <td>0.0</td>\n",
              "      <td>6</td>\n",
              "      <td>9</td>\n",
              "      <td>3</td>\n",
              "      <td>2017</td>\n",
              "      <td>2</td>\n",
              "      <td>2.0</td>\n",
              "      <td>0.0</td>\n",
              "      <td>1920.0</td>\n",
              "      <td>10009.0</td>\n",
              "    </tr>\n",
              "    <tr>\n",
              "      <th>16</th>\n",
              "      <td>373</td>\n",
              "      <td>1</td>\n",
              "      <td>C6</td>\n",
              "      <td>C6</td>\n",
              "      <td>09 COOPS - WALKUP APARTMENTS</td>\n",
              "      <td>0.0</td>\n",
              "      <td>2863.60083</td>\n",
              "      <td>2459.223863</td>\n",
              "      <td>40.0</td>\n",
              "      <td>ALPHABET CITY</td>\n",
              "      <td>0.0</td>\n",
              "      <td>14</td>\n",
              "      <td>7</td>\n",
              "      <td>3</td>\n",
              "      <td>2017</td>\n",
              "      <td>2</td>\n",
              "      <td>2.0</td>\n",
              "      <td>0.0</td>\n",
              "      <td>1920.0</td>\n",
              "      <td>10009.0</td>\n",
              "    </tr>\n",
              "    <tr>\n",
              "      <th>...</th>\n",
              "      <td>...</td>\n",
              "      <td>...</td>\n",
              "      <td>...</td>\n",
              "      <td>...</td>\n",
              "      <td>...</td>\n",
              "      <td>...</td>\n",
              "      <td>...</td>\n",
              "      <td>...</td>\n",
              "      <td>...</td>\n",
              "      <td>...</td>\n",
              "      <td>...</td>\n",
              "      <td>...</td>\n",
              "      <td>...</td>\n",
              "      <td>...</td>\n",
              "      <td>...</td>\n",
              "      <td>...</td>\n",
              "      <td>...</td>\n",
              "      <td>...</td>\n",
              "      <td>...</td>\n",
              "      <td>...</td>\n",
              "    </tr>\n",
              "    <tr>\n",
              "      <th>25611</th>\n",
              "      <td>6414</td>\n",
              "      <td>3</td>\n",
              "      <td>RB</td>\n",
              "      <td>RB</td>\n",
              "      <td>43 CONDO OFFICE BUILDINGS</td>\n",
              "      <td>0.0</td>\n",
              "      <td>0.00000</td>\n",
              "      <td>0.000000</td>\n",
              "      <td>1002.0</td>\n",
              "      <td>BATH BEACH</td>\n",
              "      <td>0.0</td>\n",
              "      <td>6</td>\n",
              "      <td>7</td>\n",
              "      <td>3</td>\n",
              "      <td>2017</td>\n",
              "      <td>4</td>\n",
              "      <td>4.0</td>\n",
              "      <td>1.0</td>\n",
              "      <td>0.0</td>\n",
              "      <td>11214.0</td>\n",
              "    </tr>\n",
              "    <tr>\n",
              "      <th>25627</th>\n",
              "      <td>5763</td>\n",
              "      <td>3</td>\n",
              "      <td>A5</td>\n",
              "      <td>A5</td>\n",
              "      <td>01 ONE FAMILY DWELLINGS</td>\n",
              "      <td>0.0</td>\n",
              "      <td>1905.00000</td>\n",
              "      <td>2000.000000</td>\n",
              "      <td>24.0</td>\n",
              "      <td>BAY RIDGE</td>\n",
              "      <td>1.0</td>\n",
              "      <td>28</td>\n",
              "      <td>6</td>\n",
              "      <td>2</td>\n",
              "      <td>2017</td>\n",
              "      <td>1</td>\n",
              "      <td>1.0</td>\n",
              "      <td>1.0</td>\n",
              "      <td>1935.0</td>\n",
              "      <td>11220.0</td>\n",
              "    </tr>\n",
              "    <tr>\n",
              "      <th>25628</th>\n",
              "      <td>5763</td>\n",
              "      <td>3</td>\n",
              "      <td>A5</td>\n",
              "      <td>A5</td>\n",
              "      <td>01 ONE FAMILY DWELLINGS</td>\n",
              "      <td>0.0</td>\n",
              "      <td>1905.00000</td>\n",
              "      <td>1900.000000</td>\n",
              "      <td>27.0</td>\n",
              "      <td>BAY RIDGE</td>\n",
              "      <td>1.0</td>\n",
              "      <td>17</td>\n",
              "      <td>4</td>\n",
              "      <td>2</td>\n",
              "      <td>2017</td>\n",
              "      <td>1</td>\n",
              "      <td>1.0</td>\n",
              "      <td>1.0</td>\n",
              "      <td>1935.0</td>\n",
              "      <td>11220.0</td>\n",
              "    </tr>\n",
              "    <tr>\n",
              "      <th>25630</th>\n",
              "      <td>5841</td>\n",
              "      <td>3</td>\n",
              "      <td>A5</td>\n",
              "      <td>A5</td>\n",
              "      <td>01 ONE FAMILY DWELLINGS</td>\n",
              "      <td>0.0</td>\n",
              "      <td>892.00000</td>\n",
              "      <td>845.000000</td>\n",
              "      <td>34.0</td>\n",
              "      <td>BAY RIDGE</td>\n",
              "      <td>1.0</td>\n",
              "      <td>5</td>\n",
              "      <td>5</td>\n",
              "      <td>2</td>\n",
              "      <td>2017</td>\n",
              "      <td>1</td>\n",
              "      <td>1.0</td>\n",
              "      <td>1.0</td>\n",
              "      <td>1950.0</td>\n",
              "      <td>11220.0</td>\n",
              "    </tr>\n",
              "    <tr>\n",
              "      <th>25632</th>\n",
              "      <td>5848</td>\n",
              "      <td>3</td>\n",
              "      <td>A4</td>\n",
              "      <td>A4</td>\n",
              "      <td>01 ONE FAMILY DWELLINGS</td>\n",
              "      <td>0.0</td>\n",
              "      <td>1696.00000</td>\n",
              "      <td>1667.000000</td>\n",
              "      <td>127.0</td>\n",
              "      <td>BAY RIDGE</td>\n",
              "      <td>1.0</td>\n",
              "      <td>13</td>\n",
              "      <td>6</td>\n",
              "      <td>2</td>\n",
              "      <td>2017</td>\n",
              "      <td>1</td>\n",
              "      <td>1.0</td>\n",
              "      <td>1.0</td>\n",
              "      <td>1899.0</td>\n",
              "      <td>11220.0</td>\n",
              "    </tr>\n",
              "  </tbody>\n",
              "</table>\n",
              "<p>17089 rows × 20 columns</p>\n",
              "</div>"
            ],
            "text/plain": [
              "      BLOCK_code BOROUGH_code  ... YEAR BUILT_code ZIP CODE_code\n",
              "3            402            1  ...          1913.0       10009.0\n",
              "6            406            1  ...          1920.0       10009.0\n",
              "13           373            1  ...          1920.0       10009.0\n",
              "15           373            1  ...          1920.0       10009.0\n",
              "16           373            1  ...          1920.0       10009.0\n",
              "...          ...          ...  ...             ...           ...\n",
              "25611       6414            3  ...             0.0       11214.0\n",
              "25627       5763            3  ...          1935.0       11220.0\n",
              "25628       5763            3  ...          1935.0       11220.0\n",
              "25630       5841            3  ...          1950.0       11220.0\n",
              "25632       5848            3  ...          1899.0       11220.0\n",
              "\n",
              "[17089 rows x 20 columns]"
            ]
          },
          "metadata": {
            "tags": []
          },
          "execution_count": 33
        }
      ]
    },
    {
      "cell_type": "code",
      "metadata": {
        "id": "jt521VohMelm",
        "colab_type": "code",
        "colab": {}
      },
      "source": [
        ""
      ],
      "execution_count": 33,
      "outputs": []
    },
    {
      "cell_type": "code",
      "metadata": {
        "id": "zTvCTQyDMelp",
        "colab_type": "code",
        "colab": {
          "base_uri": "https://localhost:8080/",
          "height": 1000
        },
        "outputId": "52af875d-460a-4358-e9fb-b070fbeabd06"
      },
      "source": [
        "from sklearn import preprocessing \n",
        "  \n",
        "label_encoder = preprocessing.LabelEncoder() \n",
        "\n",
        "X['BUILDING CLASS AT TIME OF SALE_code']= label_encoder.fit_transform(X['BUILDING CLASS AT TIME OF SALE_code'])\n",
        "X['BUILDING CLASS CATEGORY_code']= label_encoder.fit_transform(X['BUILDING CLASS CATEGORY_code'])\n",
        "X['BLOCK_code']= label_encoder.fit_transform(X['BLOCK_code'])\n",
        "X['BOROUGH_code']= label_encoder.fit_transform(X['BOROUGH_code'])\n",
        "X['BUILDING CLASS AT PRESENT_code']= label_encoder.fit_transform(X['BUILDING CLASS AT PRESENT_code'])\n",
        "\n",
        "X['LOT_code']= label_encoder.fit_transform(X['LOT_code'])\n",
        "X['TAX CLASS AT PRESENT_code']= label_encoder.fit_transform(X['TAX CLASS AT PRESENT_code'])\n",
        "X['TAX CLASS AT TIME OF SALE_code']= label_encoder.fit_transform(X['TAX CLASS AT TIME OF SALE_code'])\n",
        "X['YEAR BUILT_code']= label_encoder.fit_transform(X['YEAR BUILT_code'])\n",
        "X['ZIP CODE_code']= label_encoder.fit_transform(X['ZIP CODE_code'])\n",
        "X['NEIGHBORHOOD_code']= label_encoder.fit_transform(X['NEIGHBORHOOD_code'])\n"
      ],
      "execution_count": 34,
      "outputs": [
        {
          "output_type": "stream",
          "text": [
            "/usr/local/lib/python3.6/dist-packages/ipykernel_launcher.py:5: SettingWithCopyWarning: \n",
            "A value is trying to be set on a copy of a slice from a DataFrame.\n",
            "Try using .loc[row_indexer,col_indexer] = value instead\n",
            "\n",
            "See the caveats in the documentation: https://pandas.pydata.org/pandas-docs/stable/user_guide/indexing.html#returning-a-view-versus-a-copy\n",
            "  \"\"\"\n",
            "/usr/local/lib/python3.6/dist-packages/ipykernel_launcher.py:6: SettingWithCopyWarning: \n",
            "A value is trying to be set on a copy of a slice from a DataFrame.\n",
            "Try using .loc[row_indexer,col_indexer] = value instead\n",
            "\n",
            "See the caveats in the documentation: https://pandas.pydata.org/pandas-docs/stable/user_guide/indexing.html#returning-a-view-versus-a-copy\n",
            "  \n",
            "/usr/local/lib/python3.6/dist-packages/ipykernel_launcher.py:7: SettingWithCopyWarning: \n",
            "A value is trying to be set on a copy of a slice from a DataFrame.\n",
            "Try using .loc[row_indexer,col_indexer] = value instead\n",
            "\n",
            "See the caveats in the documentation: https://pandas.pydata.org/pandas-docs/stable/user_guide/indexing.html#returning-a-view-versus-a-copy\n",
            "  import sys\n",
            "/usr/local/lib/python3.6/dist-packages/ipykernel_launcher.py:8: SettingWithCopyWarning: \n",
            "A value is trying to be set on a copy of a slice from a DataFrame.\n",
            "Try using .loc[row_indexer,col_indexer] = value instead\n",
            "\n",
            "See the caveats in the documentation: https://pandas.pydata.org/pandas-docs/stable/user_guide/indexing.html#returning-a-view-versus-a-copy\n",
            "  \n",
            "/usr/local/lib/python3.6/dist-packages/ipykernel_launcher.py:9: SettingWithCopyWarning: \n",
            "A value is trying to be set on a copy of a slice from a DataFrame.\n",
            "Try using .loc[row_indexer,col_indexer] = value instead\n",
            "\n",
            "See the caveats in the documentation: https://pandas.pydata.org/pandas-docs/stable/user_guide/indexing.html#returning-a-view-versus-a-copy\n",
            "  if __name__ == '__main__':\n",
            "/usr/local/lib/python3.6/dist-packages/ipykernel_launcher.py:11: SettingWithCopyWarning: \n",
            "A value is trying to be set on a copy of a slice from a DataFrame.\n",
            "Try using .loc[row_indexer,col_indexer] = value instead\n",
            "\n",
            "See the caveats in the documentation: https://pandas.pydata.org/pandas-docs/stable/user_guide/indexing.html#returning-a-view-versus-a-copy\n",
            "  # This is added back by InteractiveShellApp.init_path()\n",
            "/usr/local/lib/python3.6/dist-packages/ipykernel_launcher.py:12: SettingWithCopyWarning: \n",
            "A value is trying to be set on a copy of a slice from a DataFrame.\n",
            "Try using .loc[row_indexer,col_indexer] = value instead\n",
            "\n",
            "See the caveats in the documentation: https://pandas.pydata.org/pandas-docs/stable/user_guide/indexing.html#returning-a-view-versus-a-copy\n",
            "  if sys.path[0] == '':\n",
            "/usr/local/lib/python3.6/dist-packages/ipykernel_launcher.py:13: SettingWithCopyWarning: \n",
            "A value is trying to be set on a copy of a slice from a DataFrame.\n",
            "Try using .loc[row_indexer,col_indexer] = value instead\n",
            "\n",
            "See the caveats in the documentation: https://pandas.pydata.org/pandas-docs/stable/user_guide/indexing.html#returning-a-view-versus-a-copy\n",
            "  del sys.path[0]\n",
            "/usr/local/lib/python3.6/dist-packages/ipykernel_launcher.py:14: SettingWithCopyWarning: \n",
            "A value is trying to be set on a copy of a slice from a DataFrame.\n",
            "Try using .loc[row_indexer,col_indexer] = value instead\n",
            "\n",
            "See the caveats in the documentation: https://pandas.pydata.org/pandas-docs/stable/user_guide/indexing.html#returning-a-view-versus-a-copy\n",
            "  \n",
            "/usr/local/lib/python3.6/dist-packages/ipykernel_launcher.py:15: SettingWithCopyWarning: \n",
            "A value is trying to be set on a copy of a slice from a DataFrame.\n",
            "Try using .loc[row_indexer,col_indexer] = value instead\n",
            "\n",
            "See the caveats in the documentation: https://pandas.pydata.org/pandas-docs/stable/user_guide/indexing.html#returning-a-view-versus-a-copy\n",
            "  from ipykernel import kernelapp as app\n",
            "/usr/local/lib/python3.6/dist-packages/ipykernel_launcher.py:16: SettingWithCopyWarning: \n",
            "A value is trying to be set on a copy of a slice from a DataFrame.\n",
            "Try using .loc[row_indexer,col_indexer] = value instead\n",
            "\n",
            "See the caveats in the documentation: https://pandas.pydata.org/pandas-docs/stable/user_guide/indexing.html#returning-a-view-versus-a-copy\n",
            "  app.launch_new_instance()\n"
          ],
          "name": "stderr"
        }
      ]
    },
    {
      "cell_type": "code",
      "metadata": {
        "id": "Jf9-LWDkMels",
        "colab_type": "code",
        "colab": {
          "base_uri": "https://localhost:8080/",
          "height": 67
        },
        "outputId": "72c5e018-b212-4871-d0b9-5d311f035944"
      },
      "source": [
        "from sklearn.linear_model import LinearRegression\n",
        "from sklearn.feature_selection import RFE\n",
        "lr = LinearRegression(normalize=True)\n",
        "lr.fit(X,y)\n",
        "#stop the search when only the last feature is left\n",
        "rfe = RFE(lr, n_features_to_select=10)\n",
        "rfe.fit(X,y)\n",
        "#ranks[\"RFE\"] = ranking(list(map(float, rfe.ranking_)), colnames, order=-1)"
      ],
      "execution_count": 35,
      "outputs": [
        {
          "output_type": "execute_result",
          "data": {
            "text/plain": [
              "RFE(estimator=LinearRegression(copy_X=True, fit_intercept=True, n_jobs=None,\n",
              "                               normalize=True),\n",
              "    n_features_to_select=10, step=1, verbose=0)"
            ]
          },
          "metadata": {
            "tags": []
          },
          "execution_count": 35
        }
      ]
    },
    {
      "cell_type": "code",
      "metadata": {
        "id": "hz6F4m8vMel3",
        "colab_type": "code",
        "colab": {}
      },
      "source": [
        "from sklearn.preprocessing import MinMaxScaler\n",
        "def ranking(ranks, names, order=1):\n",
        "    minmax = MinMaxScaler()\n",
        "    ranks = minmax.fit_transform(order*np.array([ranks]).T).T[0]\n",
        "    ranks = map(lambda x: round(x,2), ranks)\n",
        "    return dict(zip(names, ranks))"
      ],
      "execution_count": 36,
      "outputs": []
    },
    {
      "cell_type": "code",
      "metadata": {
        "id": "uvr9_dB-MemB",
        "colab_type": "code",
        "colab": {}
      },
      "source": [
        "ranks = {}\n",
        "ranks[\"RFE\"] = ranking(list(map(float, rfe.ranking_)), X.columns, order=-1)"
      ],
      "execution_count": 37,
      "outputs": []
    },
    {
      "cell_type": "code",
      "metadata": {
        "id": "DeWwBVMmMemK",
        "colab_type": "code",
        "colab": {
          "base_uri": "https://localhost:8080/",
          "height": 351
        },
        "outputId": "18c573a5-89c1-4234-fc27-45a0b9b9ca15"
      },
      "source": [
        "from operator import itemgetter\n",
        "k = sorted(ranks['RFE'].items(), key=itemgetter(1))\n",
        "k"
      ],
      "execution_count": 38,
      "outputs": [
        {
          "output_type": "execute_result",
          "data": {
            "text/plain": [
              "[('GROSS_SQUARE_FEET', 0.0),\n",
              " ('LAND_SQUARE_FEET', 0.1),\n",
              " ('LOT_code', 0.2),\n",
              " ('BLOCK_code', 0.3),\n",
              " ('YEAR BUILT_code', 0.4),\n",
              " ('NEIGHBORHOOD_code', 0.5),\n",
              " ('SALE_DAY', 0.6),\n",
              " ('SALE_MONTH', 0.7),\n",
              " ('SALE_Quarter', 0.8),\n",
              " ('ZIP CODE_code', 0.9),\n",
              " ('BOROUGH_code', 1.0),\n",
              " ('BUILDING CLASS AT PRESENT_code', 1.0),\n",
              " ('BUILDING CLASS AT TIME OF SALE_code', 1.0),\n",
              " ('BUILDING CLASS CATEGORY_code', 1.0),\n",
              " ('COMMERCIAL UNITS', 1.0),\n",
              " ('RESIDENTIAL UNITS', 1.0),\n",
              " ('SALE_YEAR', 1.0),\n",
              " ('TAX CLASS AT PRESENT_code', 1.0),\n",
              " ('TAX CLASS AT TIME OF SALE_code', 1.0),\n",
              " ('TOTAL UNITS', 1.0)]"
            ]
          },
          "metadata": {
            "tags": []
          },
          "execution_count": 38
        }
      ]
    },
    {
      "cell_type": "code",
      "metadata": {
        "id": "1EH-9yk6MemO",
        "colab_type": "code",
        "colab": {
          "base_uri": "https://localhost:8080/",
          "height": 184
        },
        "outputId": "05fc2fa2-727d-4b49-e8f3-1cd96c052671"
      },
      "source": [
        "k = k[-10:]\n",
        "k"
      ],
      "execution_count": 39,
      "outputs": [
        {
          "output_type": "execute_result",
          "data": {
            "text/plain": [
              "[('BOROUGH_code', 1.0),\n",
              " ('BUILDING CLASS AT PRESENT_code', 1.0),\n",
              " ('BUILDING CLASS AT TIME OF SALE_code', 1.0),\n",
              " ('BUILDING CLASS CATEGORY_code', 1.0),\n",
              " ('COMMERCIAL UNITS', 1.0),\n",
              " ('RESIDENTIAL UNITS', 1.0),\n",
              " ('SALE_YEAR', 1.0),\n",
              " ('TAX CLASS AT PRESENT_code', 1.0),\n",
              " ('TAX CLASS AT TIME OF SALE_code', 1.0),\n",
              " ('TOTAL UNITS', 1.0)]"
            ]
          },
          "metadata": {
            "tags": []
          },
          "execution_count": 39
        }
      ]
    },
    {
      "cell_type": "code",
      "metadata": {
        "id": "7hwt7CreMemQ",
        "colab_type": "code",
        "colab": {
          "base_uri": "https://localhost:8080/",
          "height": 345
        },
        "outputId": "93fefd31-3c9c-44d6-983c-1c61b27b8661"
      },
      "source": [
        "data_3 = sorted(ranks['RFE'], key=ranks['RFE'].get)[-10:]\n",
        "data_3 = pd.DataFrame(data = data_3, columns = ['Features'])\n",
        "data_3"
      ],
      "execution_count": 40,
      "outputs": [
        {
          "output_type": "execute_result",
          "data": {
            "text/html": [
              "<div>\n",
              "<style scoped>\n",
              "    .dataframe tbody tr th:only-of-type {\n",
              "        vertical-align: middle;\n",
              "    }\n",
              "\n",
              "    .dataframe tbody tr th {\n",
              "        vertical-align: top;\n",
              "    }\n",
              "\n",
              "    .dataframe thead th {\n",
              "        text-align: right;\n",
              "    }\n",
              "</style>\n",
              "<table border=\"1\" class=\"dataframe\">\n",
              "  <thead>\n",
              "    <tr style=\"text-align: right;\">\n",
              "      <th></th>\n",
              "      <th>Features</th>\n",
              "    </tr>\n",
              "  </thead>\n",
              "  <tbody>\n",
              "    <tr>\n",
              "      <th>0</th>\n",
              "      <td>BOROUGH_code</td>\n",
              "    </tr>\n",
              "    <tr>\n",
              "      <th>1</th>\n",
              "      <td>BUILDING CLASS AT PRESENT_code</td>\n",
              "    </tr>\n",
              "    <tr>\n",
              "      <th>2</th>\n",
              "      <td>BUILDING CLASS AT TIME OF SALE_code</td>\n",
              "    </tr>\n",
              "    <tr>\n",
              "      <th>3</th>\n",
              "      <td>BUILDING CLASS CATEGORY_code</td>\n",
              "    </tr>\n",
              "    <tr>\n",
              "      <th>4</th>\n",
              "      <td>COMMERCIAL UNITS</td>\n",
              "    </tr>\n",
              "    <tr>\n",
              "      <th>5</th>\n",
              "      <td>RESIDENTIAL UNITS</td>\n",
              "    </tr>\n",
              "    <tr>\n",
              "      <th>6</th>\n",
              "      <td>SALE_YEAR</td>\n",
              "    </tr>\n",
              "    <tr>\n",
              "      <th>7</th>\n",
              "      <td>TAX CLASS AT PRESENT_code</td>\n",
              "    </tr>\n",
              "    <tr>\n",
              "      <th>8</th>\n",
              "      <td>TAX CLASS AT TIME OF SALE_code</td>\n",
              "    </tr>\n",
              "    <tr>\n",
              "      <th>9</th>\n",
              "      <td>TOTAL UNITS</td>\n",
              "    </tr>\n",
              "  </tbody>\n",
              "</table>\n",
              "</div>"
            ],
            "text/plain": [
              "                              Features\n",
              "0                         BOROUGH_code\n",
              "1       BUILDING CLASS AT PRESENT_code\n",
              "2  BUILDING CLASS AT TIME OF SALE_code\n",
              "3         BUILDING CLASS CATEGORY_code\n",
              "4                     COMMERCIAL UNITS\n",
              "5                    RESIDENTIAL UNITS\n",
              "6                            SALE_YEAR\n",
              "7            TAX CLASS AT PRESENT_code\n",
              "8       TAX CLASS AT TIME OF SALE_code\n",
              "9                          TOTAL UNITS"
            ]
          },
          "metadata": {
            "tags": []
          },
          "execution_count": 40
        }
      ]
    },
    {
      "cell_type": "markdown",
      "metadata": {
        "id": "4wWta3TGMemT",
        "colab_type": "text"
      },
      "source": [
        "# Objective 4"
      ]
    },
    {
      "cell_type": "code",
      "metadata": {
        "id": "zegJaMMGMemT",
        "colab_type": "code",
        "colab": {
          "base_uri": "https://localhost:8080/",
          "height": 134
        },
        "outputId": "1e8f1e2b-60f8-482f-91a3-2c0a6166c1a5"
      },
      "source": [
        "from sklearn.ensemble import RandomForestRegressor\n",
        "random_forest = RandomForestRegressor(n_estimators=5, max_depth=5, random_state=123)\n",
        "random_forest.fit(X, y)\n",
        "\n",
        "#Predict Output y_predict = random_forest.predict(X_val)\n"
      ],
      "execution_count": 41,
      "outputs": [
        {
          "output_type": "execute_result",
          "data": {
            "text/plain": [
              "RandomForestRegressor(bootstrap=True, ccp_alpha=0.0, criterion='mse',\n",
              "                      max_depth=5, max_features='auto', max_leaf_nodes=None,\n",
              "                      max_samples=None, min_impurity_decrease=0.0,\n",
              "                      min_impurity_split=None, min_samples_leaf=1,\n",
              "                      min_samples_split=2, min_weight_fraction_leaf=0.0,\n",
              "                      n_estimators=5, n_jobs=None, oob_score=False,\n",
              "                      random_state=123, verbose=0, warm_start=False)"
            ]
          },
          "metadata": {
            "tags": []
          },
          "execution_count": 41
        }
      ]
    },
    {
      "cell_type": "code",
      "metadata": {
        "id": "Orqg1rz8MemY",
        "colab_type": "code",
        "colab": {}
      },
      "source": [
        "ranks[\"RF\"] = ranking(random_forest.feature_importances_, X.columns)"
      ],
      "execution_count": 42,
      "outputs": []
    },
    {
      "cell_type": "code",
      "metadata": {
        "id": "A1Mnnhx-Meme",
        "colab_type": "code",
        "colab": {
          "base_uri": "https://localhost:8080/",
          "height": 196
        },
        "outputId": "044f643f-1268-40e4-ac5e-1cbc439652eb"
      },
      "source": [
        "data_4 = sorted(ranks['RF'], key=ranks['RF'].get)[-5:]\n",
        "data_4 = pd.DataFrame(data = data_4, columns = ['Features'])\n",
        "data_4"
      ],
      "execution_count": 43,
      "outputs": [
        {
          "output_type": "execute_result",
          "data": {
            "text/html": [
              "<div>\n",
              "<style scoped>\n",
              "    .dataframe tbody tr th:only-of-type {\n",
              "        vertical-align: middle;\n",
              "    }\n",
              "\n",
              "    .dataframe tbody tr th {\n",
              "        vertical-align: top;\n",
              "    }\n",
              "\n",
              "    .dataframe thead th {\n",
              "        text-align: right;\n",
              "    }\n",
              "</style>\n",
              "<table border=\"1\" class=\"dataframe\">\n",
              "  <thead>\n",
              "    <tr style=\"text-align: right;\">\n",
              "      <th></th>\n",
              "      <th>Features</th>\n",
              "    </tr>\n",
              "  </thead>\n",
              "  <tbody>\n",
              "    <tr>\n",
              "      <th>0</th>\n",
              "      <td>YEAR BUILT_code</td>\n",
              "    </tr>\n",
              "    <tr>\n",
              "      <th>1</th>\n",
              "      <td>ZIP CODE_code</td>\n",
              "    </tr>\n",
              "    <tr>\n",
              "      <th>2</th>\n",
              "      <td>GROSS_SQUARE_FEET</td>\n",
              "    </tr>\n",
              "    <tr>\n",
              "      <th>3</th>\n",
              "      <td>TOTAL UNITS</td>\n",
              "    </tr>\n",
              "    <tr>\n",
              "      <th>4</th>\n",
              "      <td>BLOCK_code</td>\n",
              "    </tr>\n",
              "  </tbody>\n",
              "</table>\n",
              "</div>"
            ],
            "text/plain": [
              "            Features\n",
              "0    YEAR BUILT_code\n",
              "1      ZIP CODE_code\n",
              "2  GROSS_SQUARE_FEET\n",
              "3        TOTAL UNITS\n",
              "4         BLOCK_code"
            ]
          },
          "metadata": {
            "tags": []
          },
          "execution_count": 43
        }
      ]
    },
    {
      "cell_type": "markdown",
      "metadata": {
        "id": "xsnsnAUSMemm",
        "colab_type": "text"
      },
      "source": [
        "# Objective 5"
      ]
    },
    {
      "cell_type": "code",
      "metadata": {
        "id": "bz87wpfhMemm",
        "colab_type": "code",
        "colab": {}
      },
      "source": [
        "from keras.models import Sequential\n",
        "from tensorflow.keras import layers\n",
        "from tensorflow.keras import activations\n",
        "from keras.layers import Dense\n",
        "from keras.optimizers import Adam\n",
        "from sklearn.model_selection import train_test_split\n",
        "from tensorflow.keras.losses import MeanSquaredError\n",
        "\n",
        "# define the keras model\n",
        "model = Sequential()\n",
        "\n",
        "model.add(Dense(32, input_dim=20, activation='relu', kernel_initializer='normal'))\n",
        "model.add(Dense(32, activation='relu', kernel_initializer='normal'))\n",
        "model.add(Dense(32, activation='relu', kernel_initializer='normal'))\n",
        "model.add(Dense(1,  kernel_initializer='normal'))\n",
        "opt = Adam(lr=0.0005, decay=0.0000025)\n",
        "\n",
        "model.compile(loss=MeanSquaredError(),optimizer=opt,metrics=['mse','mae'])\n"
      ],
      "execution_count": 44,
      "outputs": []
    },
    {
      "cell_type": "code",
      "metadata": {
        "id": "lNJbIb5UMemq",
        "colab_type": "code",
        "colab": {
          "base_uri": "https://localhost:8080/",
          "height": 1000
        },
        "outputId": "b1923d19-ea56-49c7-ae61-3574cb3ba2ed"
      },
      "source": [
        "model.fit(X,y,epochs=200)\n",
        "model.summary()"
      ],
      "execution_count": 45,
      "outputs": [
        {
          "output_type": "stream",
          "text": [
            "Epoch 1/200\n",
            "535/535 [==============================] - 1s 2ms/step - loss: 0.9212 - mse: 0.9212 - mae: 0.3411\n",
            "Epoch 2/200\n",
            "535/535 [==============================] - 1s 2ms/step - loss: 0.3238 - mse: 0.3238 - mae: 0.1343\n",
            "Epoch 3/200\n",
            "535/535 [==============================] - 1s 2ms/step - loss: 0.4909 - mse: 0.4909 - mae: 0.1089\n",
            "Epoch 4/200\n",
            "535/535 [==============================] - 1s 2ms/step - loss: 0.0260 - mse: 0.0260 - mae: 0.0305\n",
            "Epoch 5/200\n",
            "535/535 [==============================] - 1s 2ms/step - loss: 0.5920 - mse: 0.5920 - mae: 0.1237\n",
            "Epoch 6/200\n",
            "535/535 [==============================] - 1s 2ms/step - loss: 0.0246 - mse: 0.0246 - mae: 0.0494\n",
            "Epoch 7/200\n",
            "535/535 [==============================] - 1s 2ms/step - loss: 0.0980 - mse: 0.0980 - mae: 0.0616\n",
            "Epoch 8/200\n",
            "535/535 [==============================] - 1s 2ms/step - loss: 0.1392 - mse: 0.1392 - mae: 0.0691\n",
            "Epoch 9/200\n",
            "535/535 [==============================] - 1s 2ms/step - loss: 0.2373 - mse: 0.2373 - mae: 0.0390\n",
            "Epoch 10/200\n",
            "535/535 [==============================] - 1s 2ms/step - loss: 0.5530 - mse: 0.5530 - mae: 0.0602\n",
            "Epoch 11/200\n",
            "535/535 [==============================] - 1s 2ms/step - loss: 1.0380 - mse: 1.0380 - mae: 0.1088\n",
            "Epoch 12/200\n",
            "535/535 [==============================] - 1s 2ms/step - loss: 0.1065 - mse: 0.1065 - mae: 0.0479\n",
            "Epoch 13/200\n",
            "535/535 [==============================] - 1s 2ms/step - loss: 0.1627 - mse: 0.1627 - mae: 0.0182\n",
            "Epoch 14/200\n",
            "535/535 [==============================] - 1s 2ms/step - loss: 0.0467 - mse: 0.0467 - mae: 0.0124\n",
            "Epoch 15/200\n",
            "535/535 [==============================] - 1s 2ms/step - loss: 0.0307 - mse: 0.0307 - mae: 0.0121\n",
            "Epoch 16/200\n",
            "535/535 [==============================] - 1s 2ms/step - loss: 0.2433 - mse: 0.2433 - mae: 0.0200\n",
            "Epoch 17/200\n",
            "535/535 [==============================] - 1s 2ms/step - loss: 0.0047 - mse: 0.0047 - mae: 0.0078\n",
            "Epoch 18/200\n",
            "535/535 [==============================] - 1s 2ms/step - loss: 0.0183 - mse: 0.0183 - mae: 0.0087\n",
            "Epoch 19/200\n",
            "535/535 [==============================] - 1s 2ms/step - loss: 0.0109 - mse: 0.0109 - mae: 0.0068\n",
            "Epoch 20/200\n",
            "535/535 [==============================] - 1s 2ms/step - loss: 0.0020 - mse: 0.0020 - mae: 0.0053\n",
            "Epoch 21/200\n",
            "535/535 [==============================] - 1s 2ms/step - loss: 0.0041 - mse: 0.0041 - mae: 0.0067\n",
            "Epoch 22/200\n",
            "535/535 [==============================] - 1s 2ms/step - loss: 0.0075 - mse: 0.0075 - mae: 0.0061\n",
            "Epoch 23/200\n",
            "535/535 [==============================] - 1s 2ms/step - loss: 0.0359 - mse: 0.0359 - mae: 0.0102\n",
            "Epoch 24/200\n",
            "535/535 [==============================] - 1s 2ms/step - loss: 0.0407 - mse: 0.0407 - mae: 0.0120\n",
            "Epoch 25/200\n",
            "535/535 [==============================] - 1s 2ms/step - loss: 0.0107 - mse: 0.0107 - mae: 0.0091\n",
            "Epoch 26/200\n",
            "535/535 [==============================] - 1s 2ms/step - loss: 0.0189 - mse: 0.0189 - mae: 0.0078\n",
            "Epoch 27/200\n",
            "535/535 [==============================] - 1s 2ms/step - loss: 0.0155 - mse: 0.0155 - mae: 0.0078\n",
            "Epoch 28/200\n",
            "535/535 [==============================] - 1s 2ms/step - loss: 0.0043 - mse: 0.0043 - mae: 0.0070\n",
            "Epoch 29/200\n",
            "535/535 [==============================] - 1s 2ms/step - loss: 0.0035 - mse: 0.0035 - mae: 0.0058\n",
            "Epoch 30/200\n",
            "535/535 [==============================] - 1s 2ms/step - loss: 0.0045 - mse: 0.0045 - mae: 0.0059\n",
            "Epoch 31/200\n",
            "535/535 [==============================] - 1s 2ms/step - loss: 0.0034 - mse: 0.0034 - mae: 0.0058\n",
            "Epoch 32/200\n",
            "535/535 [==============================] - 1s 2ms/step - loss: 0.0384 - mse: 0.0384 - mae: 0.0093\n",
            "Epoch 33/200\n",
            "535/535 [==============================] - 1s 2ms/step - loss: 0.0029 - mse: 0.0029 - mae: 0.0055\n",
            "Epoch 34/200\n",
            "535/535 [==============================] - 1s 2ms/step - loss: 2.0040e-04 - mse: 2.0040e-04 - mae: 0.0042\n",
            "Epoch 35/200\n",
            "535/535 [==============================] - 1s 2ms/step - loss: 4.0976e-05 - mse: 4.0976e-05 - mae: 0.0039\n",
            "Epoch 36/200\n",
            "535/535 [==============================] - 1s 2ms/step - loss: 3.2419e-05 - mse: 3.2419e-05 - mae: 0.0038\n",
            "Epoch 37/200\n",
            "535/535 [==============================] - 1s 2ms/step - loss: 3.5277e-05 - mse: 3.5277e-05 - mae: 0.0039\n",
            "Epoch 38/200\n",
            "535/535 [==============================] - 1s 2ms/step - loss: 1.4654e-04 - mse: 1.4654e-04 - mae: 0.0040\n",
            "Epoch 39/200\n",
            "535/535 [==============================] - 1s 2ms/step - loss: 3.6885e-04 - mse: 3.6885e-04 - mae: 0.0041\n",
            "Epoch 40/200\n",
            "535/535 [==============================] - 1s 2ms/step - loss: 3.4190e-05 - mse: 3.4190e-05 - mae: 0.0038\n",
            "Epoch 41/200\n",
            "535/535 [==============================] - 1s 2ms/step - loss: 4.0109e-05 - mse: 4.0109e-05 - mae: 0.0038\n",
            "Epoch 42/200\n",
            "535/535 [==============================] - 1s 2ms/step - loss: 2.5711e-05 - mse: 2.5711e-05 - mae: 0.0038\n",
            "Epoch 43/200\n",
            "535/535 [==============================] - 1s 2ms/step - loss: 2.5591e-05 - mse: 2.5591e-05 - mae: 0.0038\n",
            "Epoch 44/200\n",
            "535/535 [==============================] - 1s 2ms/step - loss: 2.7208e-05 - mse: 2.7208e-05 - mae: 0.0038\n",
            "Epoch 45/200\n",
            "535/535 [==============================] - 1s 2ms/step - loss: 2.5765e-05 - mse: 2.5765e-05 - mae: 0.0038\n",
            "Epoch 46/200\n",
            "535/535 [==============================] - 1s 2ms/step - loss: 2.6568e-05 - mse: 2.6568e-05 - mae: 0.0038\n",
            "Epoch 47/200\n",
            "535/535 [==============================] - 1s 2ms/step - loss: 3.6972e-05 - mse: 3.6972e-05 - mae: 0.0039\n",
            "Epoch 48/200\n",
            "535/535 [==============================] - 1s 2ms/step - loss: 1.6715e-04 - mse: 1.6715e-04 - mae: 0.0040\n",
            "Epoch 49/200\n",
            "535/535 [==============================] - 1s 2ms/step - loss: 1.3188e-04 - mse: 1.3188e-04 - mae: 0.0039\n",
            "Epoch 50/200\n",
            "535/535 [==============================] - 1s 2ms/step - loss: 3.8397e-05 - mse: 3.8397e-05 - mae: 0.0038\n",
            "Epoch 51/200\n",
            "535/535 [==============================] - 1s 2ms/step - loss: 1.0211e-04 - mse: 1.0211e-04 - mae: 0.0039\n",
            "Epoch 52/200\n",
            "535/535 [==============================] - 1s 2ms/step - loss: 3.7247e-05 - mse: 3.7247e-05 - mae: 0.0038\n",
            "Epoch 53/200\n",
            "535/535 [==============================] - 1s 2ms/step - loss: 2.6853e-05 - mse: 2.6853e-05 - mae: 0.0038\n",
            "Epoch 54/200\n",
            "535/535 [==============================] - 1s 3ms/step - loss: 2.6102e-05 - mse: 2.6102e-05 - mae: 0.0038\n",
            "Epoch 55/200\n",
            "535/535 [==============================] - 1s 3ms/step - loss: 2.5242e-05 - mse: 2.5242e-05 - mae: 0.0038\n",
            "Epoch 56/200\n",
            "535/535 [==============================] - 1s 3ms/step - loss: 2.5190e-05 - mse: 2.5190e-05 - mae: 0.0038\n",
            "Epoch 57/200\n",
            "535/535 [==============================] - 1s 3ms/step - loss: 2.5208e-05 - mse: 2.5208e-05 - mae: 0.0038\n",
            "Epoch 58/200\n",
            "535/535 [==============================] - 1s 3ms/step - loss: 2.6946e-05 - mse: 2.6946e-05 - mae: 0.0038\n",
            "Epoch 59/200\n",
            "535/535 [==============================] - 1s 3ms/step - loss: 2.5385e-05 - mse: 2.5385e-05 - mae: 0.0038\n",
            "Epoch 60/200\n",
            "535/535 [==============================] - 1s 3ms/step - loss: 2.5283e-05 - mse: 2.5283e-05 - mae: 0.0038\n",
            "Epoch 61/200\n",
            "535/535 [==============================] - 1s 3ms/step - loss: 2.5226e-05 - mse: 2.5226e-05 - mae: 0.0038\n",
            "Epoch 62/200\n",
            "535/535 [==============================] - 1s 2ms/step - loss: 2.5355e-05 - mse: 2.5355e-05 - mae: 0.0038\n",
            "Epoch 63/200\n",
            "535/535 [==============================] - 1s 2ms/step - loss: 2.5105e-05 - mse: 2.5105e-05 - mae: 0.0038\n",
            "Epoch 64/200\n",
            "535/535 [==============================] - 1s 2ms/step - loss: 2.5186e-05 - mse: 2.5186e-05 - mae: 0.0038\n",
            "Epoch 65/200\n",
            "535/535 [==============================] - 1s 2ms/step - loss: 2.5083e-05 - mse: 2.5083e-05 - mae: 0.0038\n",
            "Epoch 66/200\n",
            "535/535 [==============================] - 1s 2ms/step - loss: 2.5613e-05 - mse: 2.5613e-05 - mae: 0.0038\n",
            "Epoch 67/200\n",
            "535/535 [==============================] - 1s 2ms/step - loss: 2.5669e-05 - mse: 2.5669e-05 - mae: 0.0038\n",
            "Epoch 68/200\n",
            "535/535 [==============================] - 1s 2ms/step - loss: 2.6302e-05 - mse: 2.6302e-05 - mae: 0.0038\n",
            "Epoch 69/200\n",
            "535/535 [==============================] - 1s 2ms/step - loss: 2.5219e-05 - mse: 2.5219e-05 - mae: 0.0038\n",
            "Epoch 70/200\n",
            "535/535 [==============================] - 1s 2ms/step - loss: 2.5150e-05 - mse: 2.5150e-05 - mae: 0.0038\n",
            "Epoch 71/200\n",
            "535/535 [==============================] - 1s 2ms/step - loss: 2.5101e-05 - mse: 2.5101e-05 - mae: 0.0038\n",
            "Epoch 72/200\n",
            "535/535 [==============================] - 1s 2ms/step - loss: 2.5029e-05 - mse: 2.5029e-05 - mae: 0.0038\n",
            "Epoch 73/200\n",
            "535/535 [==============================] - 1s 2ms/step - loss: 2.5029e-05 - mse: 2.5029e-05 - mae: 0.0038\n",
            "Epoch 74/200\n",
            "535/535 [==============================] - 1s 2ms/step - loss: 2.4985e-05 - mse: 2.4985e-05 - mae: 0.0037\n",
            "Epoch 75/200\n",
            "535/535 [==============================] - 1s 2ms/step - loss: 2.4991e-05 - mse: 2.4991e-05 - mae: 0.0037\n",
            "Epoch 76/200\n",
            "535/535 [==============================] - 1s 2ms/step - loss: 2.4810e-05 - mse: 2.4810e-05 - mae: 0.0037\n",
            "Epoch 77/200\n",
            "535/535 [==============================] - 1s 2ms/step - loss: 1.9675e-05 - mse: 1.9675e-05 - mae: 0.0031\n",
            "Epoch 78/200\n",
            "535/535 [==============================] - 1s 2ms/step - loss: 1.9497e-05 - mse: 1.9497e-05 - mae: 0.0031\n",
            "Epoch 79/200\n",
            "535/535 [==============================] - 1s 2ms/step - loss: 2.7591e-05 - mse: 2.7591e-05 - mae: 0.0032\n",
            "Epoch 80/200\n",
            "535/535 [==============================] - 1s 2ms/step - loss: 2.1204e-05 - mse: 2.1204e-05 - mae: 0.0032\n",
            "Epoch 81/200\n",
            "535/535 [==============================] - 1s 2ms/step - loss: 1.9095e-05 - mse: 1.9095e-05 - mae: 0.0031\n",
            "Epoch 82/200\n",
            "535/535 [==============================] - 1s 2ms/step - loss: 1.8967e-05 - mse: 1.8967e-05 - mae: 0.0031\n",
            "Epoch 83/200\n",
            "535/535 [==============================] - 1s 2ms/step - loss: 1.8858e-05 - mse: 1.8858e-05 - mae: 0.0031\n",
            "Epoch 84/200\n",
            "535/535 [==============================] - 1s 2ms/step - loss: 1.8894e-05 - mse: 1.8894e-05 - mae: 0.0031\n",
            "Epoch 85/200\n",
            "535/535 [==============================] - 1s 2ms/step - loss: 1.9160e-05 - mse: 1.9160e-05 - mae: 0.0031\n",
            "Epoch 86/200\n",
            "535/535 [==============================] - 1s 2ms/step - loss: 1.8820e-05 - mse: 1.8820e-05 - mae: 0.0030\n",
            "Epoch 87/200\n",
            "535/535 [==============================] - 1s 2ms/step - loss: 1.8793e-05 - mse: 1.8793e-05 - mae: 0.0031\n",
            "Epoch 88/200\n",
            "535/535 [==============================] - 1s 2ms/step - loss: 1.8747e-05 - mse: 1.8747e-05 - mae: 0.0030\n",
            "Epoch 89/200\n",
            "535/535 [==============================] - 1s 2ms/step - loss: 1.8776e-05 - mse: 1.8776e-05 - mae: 0.0030\n",
            "Epoch 90/200\n",
            "535/535 [==============================] - 1s 2ms/step - loss: 1.8716e-05 - mse: 1.8716e-05 - mae: 0.0030\n",
            "Epoch 91/200\n",
            "535/535 [==============================] - 1s 2ms/step - loss: 1.8825e-05 - mse: 1.8825e-05 - mae: 0.0030\n",
            "Epoch 92/200\n",
            "535/535 [==============================] - 1s 2ms/step - loss: 1.8791e-05 - mse: 1.8791e-05 - mae: 0.0031\n",
            "Epoch 93/200\n",
            "535/535 [==============================] - 1s 2ms/step - loss: 1.8778e-05 - mse: 1.8778e-05 - mae: 0.0031\n",
            "Epoch 94/200\n",
            "535/535 [==============================] - 1s 2ms/step - loss: 1.9487e-05 - mse: 1.9487e-05 - mae: 0.0031\n",
            "Epoch 95/200\n",
            "535/535 [==============================] - 1s 2ms/step - loss: 1.8779e-05 - mse: 1.8779e-05 - mae: 0.0030\n",
            "Epoch 96/200\n",
            "535/535 [==============================] - 1s 2ms/step - loss: 1.8665e-05 - mse: 1.8665e-05 - mae: 0.0030\n",
            "Epoch 97/200\n",
            "535/535 [==============================] - 1s 2ms/step - loss: 1.8685e-05 - mse: 1.8685e-05 - mae: 0.0030\n",
            "Epoch 98/200\n",
            "535/535 [==============================] - 1s 2ms/step - loss: 1.8783e-05 - mse: 1.8783e-05 - mae: 0.0031\n",
            "Epoch 99/200\n",
            "535/535 [==============================] - 1s 2ms/step - loss: 1.8646e-05 - mse: 1.8646e-05 - mae: 0.0030\n",
            "Epoch 100/200\n",
            "535/535 [==============================] - 1s 2ms/step - loss: 1.8683e-05 - mse: 1.8683e-05 - mae: 0.0030\n",
            "Epoch 101/200\n",
            "535/535 [==============================] - 1s 2ms/step - loss: 1.8606e-05 - mse: 1.8606e-05 - mae: 0.0030\n",
            "Epoch 102/200\n",
            "535/535 [==============================] - 1s 2ms/step - loss: 1.8592e-05 - mse: 1.8592e-05 - mae: 0.0030\n",
            "Epoch 103/200\n",
            "535/535 [==============================] - 1s 2ms/step - loss: 1.8586e-05 - mse: 1.8586e-05 - mae: 0.0030\n",
            "Epoch 104/200\n",
            "535/535 [==============================] - 1s 2ms/step - loss: 1.8640e-05 - mse: 1.8640e-05 - mae: 0.0030\n",
            "Epoch 105/200\n",
            "535/535 [==============================] - 1s 2ms/step - loss: 1.8575e-05 - mse: 1.8575e-05 - mae: 0.0030\n",
            "Epoch 106/200\n",
            "535/535 [==============================] - 1s 2ms/step - loss: 1.8737e-05 - mse: 1.8737e-05 - mae: 0.0030\n",
            "Epoch 107/200\n",
            "535/535 [==============================] - 1s 2ms/step - loss: 1.8775e-05 - mse: 1.8775e-05 - mae: 0.0030\n",
            "Epoch 108/200\n",
            "535/535 [==============================] - 1s 2ms/step - loss: 1.8701e-05 - mse: 1.8701e-05 - mae: 0.0030\n",
            "Epoch 109/200\n",
            "535/535 [==============================] - 1s 2ms/step - loss: 1.8696e-05 - mse: 1.8696e-05 - mae: 0.0030\n",
            "Epoch 110/200\n",
            "535/535 [==============================] - 1s 2ms/step - loss: 1.8603e-05 - mse: 1.8603e-05 - mae: 0.0030\n",
            "Epoch 111/200\n",
            "535/535 [==============================] - 1s 2ms/step - loss: 1.8701e-05 - mse: 1.8701e-05 - mae: 0.0030\n",
            "Epoch 112/200\n",
            "535/535 [==============================] - 1s 2ms/step - loss: 1.8560e-05 - mse: 1.8560e-05 - mae: 0.0030\n",
            "Epoch 113/200\n",
            "535/535 [==============================] - 1s 2ms/step - loss: 1.8725e-05 - mse: 1.8725e-05 - mae: 0.0030\n",
            "Epoch 114/200\n",
            "535/535 [==============================] - 1s 2ms/step - loss: 1.8528e-05 - mse: 1.8528e-05 - mae: 0.0030\n",
            "Epoch 115/200\n",
            "535/535 [==============================] - 1s 2ms/step - loss: 1.8556e-05 - mse: 1.8556e-05 - mae: 0.0030\n",
            "Epoch 116/200\n",
            "535/535 [==============================] - 1s 2ms/step - loss: 1.8469e-05 - mse: 1.8469e-05 - mae: 0.0030\n",
            "Epoch 117/200\n",
            "535/535 [==============================] - 1s 2ms/step - loss: 1.8538e-05 - mse: 1.8538e-05 - mae: 0.0030\n",
            "Epoch 118/200\n",
            "535/535 [==============================] - 1s 2ms/step - loss: 1.8492e-05 - mse: 1.8492e-05 - mae: 0.0030\n",
            "Epoch 119/200\n",
            "535/535 [==============================] - 1s 2ms/step - loss: 1.8532e-05 - mse: 1.8532e-05 - mae: 0.0030\n",
            "Epoch 120/200\n",
            "535/535 [==============================] - 1s 2ms/step - loss: 1.8572e-05 - mse: 1.8572e-05 - mae: 0.0030\n",
            "Epoch 121/200\n",
            "535/535 [==============================] - 1s 2ms/step - loss: 1.8623e-05 - mse: 1.8623e-05 - mae: 0.0030\n",
            "Epoch 122/200\n",
            "535/535 [==============================] - 1s 2ms/step - loss: 1.8674e-05 - mse: 1.8674e-05 - mae: 0.0030\n",
            "Epoch 123/200\n",
            "535/535 [==============================] - 1s 2ms/step - loss: 1.8527e-05 - mse: 1.8527e-05 - mae: 0.0030\n",
            "Epoch 124/200\n",
            "535/535 [==============================] - 1s 2ms/step - loss: 1.8631e-05 - mse: 1.8631e-05 - mae: 0.0030\n",
            "Epoch 125/200\n",
            "535/535 [==============================] - 1s 2ms/step - loss: 1.8709e-05 - mse: 1.8709e-05 - mae: 0.0030\n",
            "Epoch 126/200\n",
            "535/535 [==============================] - 1s 2ms/step - loss: 1.8643e-05 - mse: 1.8643e-05 - mae: 0.0030\n",
            "Epoch 127/200\n",
            "535/535 [==============================] - 1s 2ms/step - loss: 1.8657e-05 - mse: 1.8657e-05 - mae: 0.0030\n",
            "Epoch 128/200\n",
            "535/535 [==============================] - 1s 2ms/step - loss: 1.8599e-05 - mse: 1.8599e-05 - mae: 0.0030\n",
            "Epoch 129/200\n",
            "535/535 [==============================] - 1s 2ms/step - loss: 1.8554e-05 - mse: 1.8554e-05 - mae: 0.0030\n",
            "Epoch 130/200\n",
            "535/535 [==============================] - 1s 2ms/step - loss: 1.8708e-05 - mse: 1.8708e-05 - mae: 0.0030\n",
            "Epoch 131/200\n",
            "535/535 [==============================] - 1s 2ms/step - loss: 1.8512e-05 - mse: 1.8512e-05 - mae: 0.0030\n",
            "Epoch 132/200\n",
            "535/535 [==============================] - 1s 2ms/step - loss: 1.8497e-05 - mse: 1.8497e-05 - mae: 0.0030\n",
            "Epoch 133/200\n",
            "535/535 [==============================] - 1s 2ms/step - loss: 1.8445e-05 - mse: 1.8445e-05 - mae: 0.0030\n",
            "Epoch 134/200\n",
            "535/535 [==============================] - 1s 2ms/step - loss: 1.8470e-05 - mse: 1.8470e-05 - mae: 0.0030\n",
            "Epoch 135/200\n",
            "535/535 [==============================] - 1s 2ms/step - loss: 1.8538e-05 - mse: 1.8538e-05 - mae: 0.0030\n",
            "Epoch 136/200\n",
            "535/535 [==============================] - 1s 2ms/step - loss: 1.8440e-05 - mse: 1.8440e-05 - mae: 0.0030\n",
            "Epoch 137/200\n",
            "535/535 [==============================] - 1s 2ms/step - loss: 1.8377e-05 - mse: 1.8377e-05 - mae: 0.0030\n",
            "Epoch 138/200\n",
            "535/535 [==============================] - 1s 2ms/step - loss: 1.8426e-05 - mse: 1.8426e-05 - mae: 0.0030\n",
            "Epoch 139/200\n",
            "535/535 [==============================] - 1s 2ms/step - loss: 1.8428e-05 - mse: 1.8428e-05 - mae: 0.0030\n",
            "Epoch 140/200\n",
            "535/535 [==============================] - 1s 2ms/step - loss: 1.8494e-05 - mse: 1.8494e-05 - mae: 0.0030\n",
            "Epoch 141/200\n",
            "535/535 [==============================] - 1s 2ms/step - loss: 1.8406e-05 - mse: 1.8406e-05 - mae: 0.0030\n",
            "Epoch 142/200\n",
            "535/535 [==============================] - 1s 2ms/step - loss: 1.8521e-05 - mse: 1.8521e-05 - mae: 0.0030\n",
            "Epoch 143/200\n",
            "535/535 [==============================] - 1s 2ms/step - loss: 1.8380e-05 - mse: 1.8380e-05 - mae: 0.0030\n",
            "Epoch 144/200\n",
            "535/535 [==============================] - 1s 2ms/step - loss: 1.8411e-05 - mse: 1.8411e-05 - mae: 0.0030\n",
            "Epoch 145/200\n",
            "535/535 [==============================] - 1s 2ms/step - loss: 1.8386e-05 - mse: 1.8386e-05 - mae: 0.0030\n",
            "Epoch 146/200\n",
            "535/535 [==============================] - 1s 2ms/step - loss: 1.8627e-05 - mse: 1.8627e-05 - mae: 0.0030\n",
            "Epoch 147/200\n",
            "535/535 [==============================] - 1s 2ms/step - loss: 1.8491e-05 - mse: 1.8491e-05 - mae: 0.0030\n",
            "Epoch 148/200\n",
            "535/535 [==============================] - 1s 2ms/step - loss: 1.8456e-05 - mse: 1.8456e-05 - mae: 0.0030\n",
            "Epoch 149/200\n",
            "535/535 [==============================] - 1s 2ms/step - loss: 1.8392e-05 - mse: 1.8392e-05 - mae: 0.0030\n",
            "Epoch 150/200\n",
            "535/535 [==============================] - 1s 2ms/step - loss: 1.8505e-05 - mse: 1.8505e-05 - mae: 0.0030\n",
            "Epoch 151/200\n",
            "535/535 [==============================] - 1s 2ms/step - loss: 1.8457e-05 - mse: 1.8457e-05 - mae: 0.0030\n",
            "Epoch 152/200\n",
            "535/535 [==============================] - 1s 2ms/step - loss: 1.8363e-05 - mse: 1.8363e-05 - mae: 0.0030\n",
            "Epoch 153/200\n",
            "535/535 [==============================] - 1s 2ms/step - loss: 1.8515e-05 - mse: 1.8515e-05 - mae: 0.0030\n",
            "Epoch 154/200\n",
            "535/535 [==============================] - 1s 2ms/step - loss: 1.8391e-05 - mse: 1.8391e-05 - mae: 0.0030\n",
            "Epoch 155/200\n",
            "535/535 [==============================] - 1s 2ms/step - loss: 1.8325e-05 - mse: 1.8325e-05 - mae: 0.0030\n",
            "Epoch 156/200\n",
            "535/535 [==============================] - 1s 2ms/step - loss: 1.8386e-05 - mse: 1.8386e-05 - mae: 0.0030\n",
            "Epoch 157/200\n",
            "535/535 [==============================] - 1s 2ms/step - loss: 1.8391e-05 - mse: 1.8391e-05 - mae: 0.0030\n",
            "Epoch 158/200\n",
            "535/535 [==============================] - 1s 2ms/step - loss: 1.8333e-05 - mse: 1.8333e-05 - mae: 0.0030\n",
            "Epoch 159/200\n",
            "535/535 [==============================] - 1s 2ms/step - loss: 1.8514e-05 - mse: 1.8514e-05 - mae: 0.0030\n",
            "Epoch 160/200\n",
            "535/535 [==============================] - 1s 2ms/step - loss: 1.8270e-05 - mse: 1.8270e-05 - mae: 0.0030\n",
            "Epoch 161/200\n",
            "535/535 [==============================] - 1s 2ms/step - loss: 1.8189e-05 - mse: 1.8189e-05 - mae: 0.0030\n",
            "Epoch 162/200\n",
            "535/535 [==============================] - 1s 2ms/step - loss: 1.8282e-05 - mse: 1.8282e-05 - mae: 0.0030\n",
            "Epoch 163/200\n",
            "535/535 [==============================] - 1s 2ms/step - loss: 1.8223e-05 - mse: 1.8223e-05 - mae: 0.0030\n",
            "Epoch 164/200\n",
            "535/535 [==============================] - 1s 2ms/step - loss: 1.8811e-05 - mse: 1.8811e-05 - mae: 0.0030\n",
            "Epoch 165/200\n",
            "535/535 [==============================] - 1s 2ms/step - loss: 1.8465e-05 - mse: 1.8465e-05 - mae: 0.0030\n",
            "Epoch 166/200\n",
            "535/535 [==============================] - 1s 2ms/step - loss: 2.2055e-05 - mse: 2.2055e-05 - mae: 0.0031\n",
            "Epoch 167/200\n",
            "535/535 [==============================] - 1s 2ms/step - loss: 1.8646e-05 - mse: 1.8646e-05 - mae: 0.0030\n",
            "Epoch 168/200\n",
            "535/535 [==============================] - 1s 2ms/step - loss: 1.8407e-05 - mse: 1.8407e-05 - mae: 0.0030\n",
            "Epoch 169/200\n",
            "535/535 [==============================] - 1s 2ms/step - loss: 1.8347e-05 - mse: 1.8347e-05 - mae: 0.0030\n",
            "Epoch 170/200\n",
            "535/535 [==============================] - 1s 2ms/step - loss: 1.8328e-05 - mse: 1.8328e-05 - mae: 0.0030\n",
            "Epoch 171/200\n",
            "535/535 [==============================] - 1s 2ms/step - loss: 1.8336e-05 - mse: 1.8336e-05 - mae: 0.0030\n",
            "Epoch 172/200\n",
            "535/535 [==============================] - 1s 2ms/step - loss: 1.8448e-05 - mse: 1.8448e-05 - mae: 0.0030\n",
            "Epoch 173/200\n",
            "535/535 [==============================] - 1s 2ms/step - loss: 1.8274e-05 - mse: 1.8274e-05 - mae: 0.0030\n",
            "Epoch 174/200\n",
            "535/535 [==============================] - 1s 2ms/step - loss: 1.8288e-05 - mse: 1.8288e-05 - mae: 0.0030\n",
            "Epoch 175/200\n",
            "535/535 [==============================] - 1s 2ms/step - loss: 1.8320e-05 - mse: 1.8320e-05 - mae: 0.0030\n",
            "Epoch 176/200\n",
            "535/535 [==============================] - 1s 2ms/step - loss: 1.8283e-05 - mse: 1.8283e-05 - mae: 0.0030\n",
            "Epoch 177/200\n",
            "535/535 [==============================] - 1s 2ms/step - loss: 1.8235e-05 - mse: 1.8235e-05 - mae: 0.0030\n",
            "Epoch 178/200\n",
            "535/535 [==============================] - 1s 2ms/step - loss: 1.8305e-05 - mse: 1.8305e-05 - mae: 0.0030\n",
            "Epoch 179/200\n",
            "535/535 [==============================] - 1s 2ms/step - loss: 1.8362e-05 - mse: 1.8362e-05 - mae: 0.0030\n",
            "Epoch 180/200\n",
            "535/535 [==============================] - 1s 2ms/step - loss: 1.8210e-05 - mse: 1.8210e-05 - mae: 0.0030\n",
            "Epoch 181/200\n",
            "535/535 [==============================] - 1s 2ms/step - loss: 1.8228e-05 - mse: 1.8228e-05 - mae: 0.0030\n",
            "Epoch 182/200\n",
            "535/535 [==============================] - 1s 2ms/step - loss: 1.8264e-05 - mse: 1.8264e-05 - mae: 0.0030\n",
            "Epoch 183/200\n",
            "535/535 [==============================] - 1s 2ms/step - loss: 1.8173e-05 - mse: 1.8173e-05 - mae: 0.0030\n",
            "Epoch 184/200\n",
            "535/535 [==============================] - 1s 2ms/step - loss: 1.8299e-05 - mse: 1.8299e-05 - mae: 0.0030\n",
            "Epoch 185/200\n",
            "535/535 [==============================] - 1s 2ms/step - loss: 1.8201e-05 - mse: 1.8201e-05 - mae: 0.0030\n",
            "Epoch 186/200\n",
            "535/535 [==============================] - 1s 2ms/step - loss: 1.8132e-05 - mse: 1.8132e-05 - mae: 0.0030\n",
            "Epoch 187/200\n",
            "535/535 [==============================] - 1s 2ms/step - loss: 1.8283e-05 - mse: 1.8283e-05 - mae: 0.0030\n",
            "Epoch 188/200\n",
            "535/535 [==============================] - 1s 2ms/step - loss: 1.8136e-05 - mse: 1.8136e-05 - mae: 0.0030\n",
            "Epoch 189/200\n",
            "535/535 [==============================] - 1s 2ms/step - loss: 1.8174e-05 - mse: 1.8174e-05 - mae: 0.0030\n",
            "Epoch 190/200\n",
            "535/535 [==============================] - 1s 2ms/step - loss: 1.8169e-05 - mse: 1.8169e-05 - mae: 0.0030\n",
            "Epoch 191/200\n",
            "535/535 [==============================] - 1s 2ms/step - loss: 1.8190e-05 - mse: 1.8190e-05 - mae: 0.0030\n",
            "Epoch 192/200\n",
            "535/535 [==============================] - 1s 2ms/step - loss: 1.8093e-05 - mse: 1.8093e-05 - mae: 0.0030\n",
            "Epoch 193/200\n",
            "535/535 [==============================] - 1s 2ms/step - loss: 1.8213e-05 - mse: 1.8213e-05 - mae: 0.0030\n",
            "Epoch 194/200\n",
            "535/535 [==============================] - 1s 2ms/step - loss: 1.8083e-05 - mse: 1.8083e-05 - mae: 0.0030\n",
            "Epoch 195/200\n",
            "535/535 [==============================] - 1s 2ms/step - loss: 1.8134e-05 - mse: 1.8134e-05 - mae: 0.0030\n",
            "Epoch 196/200\n",
            "535/535 [==============================] - 1s 2ms/step - loss: 1.8155e-05 - mse: 1.8155e-05 - mae: 0.0030\n",
            "Epoch 197/200\n",
            "535/535 [==============================] - 1s 2ms/step - loss: 1.8174e-05 - mse: 1.8174e-05 - mae: 0.0030\n",
            "Epoch 198/200\n",
            "535/535 [==============================] - 1s 2ms/step - loss: 1.8100e-05 - mse: 1.8100e-05 - mae: 0.0030\n",
            "Epoch 199/200\n",
            "535/535 [==============================] - 1s 2ms/step - loss: 1.8108e-05 - mse: 1.8108e-05 - mae: 0.0030\n",
            "Epoch 200/200\n",
            "535/535 [==============================] - 1s 2ms/step - loss: 1.8168e-05 - mse: 1.8168e-05 - mae: 0.0030\n",
            "Model: \"sequential\"\n",
            "_________________________________________________________________\n",
            "Layer (type)                 Output Shape              Param #   \n",
            "=================================================================\n",
            "dense (Dense)                (None, 32)                672       \n",
            "_________________________________________________________________\n",
            "dense_1 (Dense)              (None, 32)                1056      \n",
            "_________________________________________________________________\n",
            "dense_2 (Dense)              (None, 32)                1056      \n",
            "_________________________________________________________________\n",
            "dense_3 (Dense)              (None, 1)                 33        \n",
            "=================================================================\n",
            "Total params: 2,817\n",
            "Trainable params: 2,817\n",
            "Non-trainable params: 0\n",
            "_________________________________________________________________\n"
          ],
          "name": "stdout"
        }
      ]
    },
    {
      "cell_type": "code",
      "metadata": {
        "id": "BxuW2twzMem0",
        "colab_type": "code",
        "colab": {}
      },
      "source": [
        ""
      ],
      "execution_count": 45,
      "outputs": []
    },
    {
      "cell_type": "code",
      "metadata": {
        "id": "uIF600YUMenA",
        "colab_type": "code",
        "colab": {}
      },
      "source": [
        ""
      ],
      "execution_count": 45,
      "outputs": []
    }
  ]
}